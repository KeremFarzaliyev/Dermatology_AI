{
 "cells": [
  {
   "cell_type": "code",
   "execution_count": 36,
   "id": "94e2d5f7-4123-40c0-ade9-57bf7dd63e01",
   "metadata": {},
   "outputs": [
    {
     "name": "stdout",
     "output_type": "stream",
     "text": [
      "Requirement already satisfied: torch in ./miniconda3/envs/jupyter_env/lib/python3.9/site-packages (2.6.0)\n",
      "Requirement already satisfied: torchvision in ./miniconda3/envs/jupyter_env/lib/python3.9/site-packages (0.21.0)\n",
      "Requirement already satisfied: timm in ./miniconda3/envs/jupyter_env/lib/python3.9/site-packages (1.0.15)\n",
      "Requirement already satisfied: wandb in ./miniconda3/envs/jupyter_env/lib/python3.9/site-packages (0.19.11)\n",
      "Requirement already satisfied: scikit-learn in ./miniconda3/envs/jupyter_env/lib/python3.9/site-packages (1.6.1)\n",
      "Requirement already satisfied: matplotlib in ./miniconda3/envs/jupyter_env/lib/python3.9/site-packages (3.9.4)\n",
      "Requirement already satisfied: pandas in ./miniconda3/envs/jupyter_env/lib/python3.9/site-packages (2.2.3)\n",
      "Requirement already satisfied: filelock in ./miniconda3/envs/jupyter_env/lib/python3.9/site-packages (from torch) (3.17.0)\n",
      "Requirement already satisfied: typing-extensions>=4.10.0 in ./miniconda3/envs/jupyter_env/lib/python3.9/site-packages (from torch) (4.12.2)\n",
      "Requirement already satisfied: networkx in ./miniconda3/envs/jupyter_env/lib/python3.9/site-packages (from torch) (3.2.1)\n",
      "Requirement already satisfied: jinja2 in ./miniconda3/envs/jupyter_env/lib/python3.9/site-packages (from torch) (3.1.6)\n",
      "Requirement already satisfied: fsspec in ./miniconda3/envs/jupyter_env/lib/python3.9/site-packages (from torch) (2025.3.0)\n",
      "Requirement already satisfied: nvidia-cuda-nvrtc-cu12==12.4.127 in ./miniconda3/envs/jupyter_env/lib/python3.9/site-packages (from torch) (12.4.127)\n",
      "Requirement already satisfied: nvidia-cuda-runtime-cu12==12.4.127 in ./miniconda3/envs/jupyter_env/lib/python3.9/site-packages (from torch) (12.4.127)\n",
      "Requirement already satisfied: nvidia-cuda-cupti-cu12==12.4.127 in ./miniconda3/envs/jupyter_env/lib/python3.9/site-packages (from torch) (12.4.127)\n",
      "Requirement already satisfied: nvidia-cudnn-cu12==9.1.0.70 in ./miniconda3/envs/jupyter_env/lib/python3.9/site-packages (from torch) (9.1.0.70)\n",
      "Requirement already satisfied: nvidia-cublas-cu12==12.4.5.8 in ./miniconda3/envs/jupyter_env/lib/python3.9/site-packages (from torch) (12.4.5.8)\n",
      "Requirement already satisfied: nvidia-cufft-cu12==11.2.1.3 in ./miniconda3/envs/jupyter_env/lib/python3.9/site-packages (from torch) (11.2.1.3)\n",
      "Requirement already satisfied: nvidia-curand-cu12==10.3.5.147 in ./miniconda3/envs/jupyter_env/lib/python3.9/site-packages (from torch) (10.3.5.147)\n",
      "Requirement already satisfied: nvidia-cusolver-cu12==11.6.1.9 in ./miniconda3/envs/jupyter_env/lib/python3.9/site-packages (from torch) (11.6.1.9)\n",
      "Requirement already satisfied: nvidia-cusparse-cu12==12.3.1.170 in ./miniconda3/envs/jupyter_env/lib/python3.9/site-packages (from torch) (12.3.1.170)\n",
      "Requirement already satisfied: nvidia-cusparselt-cu12==0.6.2 in ./miniconda3/envs/jupyter_env/lib/python3.9/site-packages (from torch) (0.6.2)\n",
      "Requirement already satisfied: nvidia-nccl-cu12==2.21.5 in ./miniconda3/envs/jupyter_env/lib/python3.9/site-packages (from torch) (2.21.5)\n",
      "Requirement already satisfied: nvidia-nvtx-cu12==12.4.127 in ./miniconda3/envs/jupyter_env/lib/python3.9/site-packages (from torch) (12.4.127)\n",
      "Requirement already satisfied: nvidia-nvjitlink-cu12==12.4.127 in ./miniconda3/envs/jupyter_env/lib/python3.9/site-packages (from torch) (12.4.127)\n",
      "Requirement already satisfied: triton==3.2.0 in ./miniconda3/envs/jupyter_env/lib/python3.9/site-packages (from torch) (3.2.0)\n",
      "Requirement already satisfied: sympy==1.13.1 in ./miniconda3/envs/jupyter_env/lib/python3.9/site-packages (from torch) (1.13.1)\n",
      "Requirement already satisfied: mpmath<1.4,>=1.1.0 in ./miniconda3/envs/jupyter_env/lib/python3.9/site-packages (from sympy==1.13.1->torch) (1.3.0)\n",
      "Requirement already satisfied: numpy in ./miniconda3/envs/jupyter_env/lib/python3.9/site-packages (from torchvision) (1.24.3)\n",
      "Requirement already satisfied: pillow!=8.3.*,>=5.3.0 in ./miniconda3/envs/jupyter_env/lib/python3.9/site-packages (from torchvision) (11.1.0)\n",
      "Requirement already satisfied: pyyaml in ./miniconda3/envs/jupyter_env/lib/python3.9/site-packages (from timm) (6.0)\n",
      "Requirement already satisfied: huggingface_hub in ./miniconda3/envs/jupyter_env/lib/python3.9/site-packages (from timm) (0.29.2)\n",
      "Requirement already satisfied: safetensors in ./miniconda3/envs/jupyter_env/lib/python3.9/site-packages (from timm) (0.5.3)\n",
      "Requirement already satisfied: click!=8.0.0,>=7.1 in ./miniconda3/envs/jupyter_env/lib/python3.9/site-packages (from wandb) (8.1.8)\n",
      "Requirement already satisfied: docker-pycreds>=0.4.0 in ./miniconda3/envs/jupyter_env/lib/python3.9/site-packages (from wandb) (0.4.0)\n",
      "Requirement already satisfied: eval-type-backport in ./miniconda3/envs/jupyter_env/lib/python3.9/site-packages (from wandb) (0.2.2)\n",
      "Requirement already satisfied: gitpython!=3.1.29,>=1.0.0 in ./miniconda3/envs/jupyter_env/lib/python3.9/site-packages (from wandb) (3.1.44)\n",
      "Requirement already satisfied: platformdirs in ./miniconda3/envs/jupyter_env/lib/python3.9/site-packages (from wandb) (4.3.6)\n",
      "Requirement already satisfied: protobuf!=4.21.0,!=5.28.0,<7,>=3.15.0 in ./miniconda3/envs/jupyter_env/lib/python3.9/site-packages (from wandb) (6.31.0)\n",
      "Requirement already satisfied: psutil>=5.0.0 in ./miniconda3/envs/jupyter_env/lib/python3.9/site-packages (from wandb) (5.9.1)\n",
      "Requirement already satisfied: pydantic<3 in ./miniconda3/envs/jupyter_env/lib/python3.9/site-packages (from wandb) (2.11.4)\n",
      "Requirement already satisfied: requests<3,>=2.0.0 in ./miniconda3/envs/jupyter_env/lib/python3.9/site-packages (from wandb) (2.32.3)\n",
      "Requirement already satisfied: sentry-sdk>=2.0.0 in ./miniconda3/envs/jupyter_env/lib/python3.9/site-packages (from wandb) (2.29.1)\n",
      "Requirement already satisfied: setproctitle in ./miniconda3/envs/jupyter_env/lib/python3.9/site-packages (from wandb) (1.3.6)\n",
      "Requirement already satisfied: setuptools in ./miniconda3/envs/jupyter_env/lib/python3.9/site-packages (from wandb) (75.8.0)\n",
      "Requirement already satisfied: scipy>=1.6.0 in ./miniconda3/envs/jupyter_env/lib/python3.9/site-packages (from scikit-learn) (1.13.1)\n",
      "Requirement already satisfied: joblib>=1.2.0 in ./miniconda3/envs/jupyter_env/lib/python3.9/site-packages (from scikit-learn) (1.4.2)\n",
      "Requirement already satisfied: threadpoolctl>=3.1.0 in ./miniconda3/envs/jupyter_env/lib/python3.9/site-packages (from scikit-learn) (3.5.0)\n",
      "Requirement already satisfied: contourpy>=1.0.1 in ./miniconda3/envs/jupyter_env/lib/python3.9/site-packages (from matplotlib) (1.3.0)\n",
      "Requirement already satisfied: cycler>=0.10 in ./miniconda3/envs/jupyter_env/lib/python3.9/site-packages (from matplotlib) (0.12.1)\n",
      "Requirement already satisfied: fonttools>=4.22.0 in ./miniconda3/envs/jupyter_env/lib/python3.9/site-packages (from matplotlib) (4.56.0)\n",
      "Requirement already satisfied: kiwisolver>=1.3.1 in ./miniconda3/envs/jupyter_env/lib/python3.9/site-packages (from matplotlib) (1.4.7)\n",
      "Requirement already satisfied: packaging>=20.0 in ./miniconda3/envs/jupyter_env/lib/python3.9/site-packages (from matplotlib) (24.2)\n",
      "Requirement already satisfied: pyparsing>=2.3.1 in ./miniconda3/envs/jupyter_env/lib/python3.9/site-packages (from matplotlib) (3.2.1)\n",
      "Requirement already satisfied: python-dateutil>=2.7 in ./miniconda3/envs/jupyter_env/lib/python3.9/site-packages (from matplotlib) (2.9.0.post0)\n",
      "Requirement already satisfied: importlib-resources>=3.2.0 in ./miniconda3/envs/jupyter_env/lib/python3.9/site-packages (from matplotlib) (6.5.2)\n",
      "Requirement already satisfied: pytz>=2020.1 in ./miniconda3/envs/jupyter_env/lib/python3.9/site-packages (from pandas) (2025.1)\n",
      "Requirement already satisfied: tzdata>=2022.7 in ./miniconda3/envs/jupyter_env/lib/python3.9/site-packages (from pandas) (2025.1)\n",
      "Requirement already satisfied: six>=1.4.0 in ./miniconda3/envs/jupyter_env/lib/python3.9/site-packages (from docker-pycreds>=0.4.0->wandb) (1.17.0)\n",
      "Requirement already satisfied: gitdb<5,>=4.0.1 in ./miniconda3/envs/jupyter_env/lib/python3.9/site-packages (from gitpython!=3.1.29,>=1.0.0->wandb) (4.0.12)\n",
      "Requirement already satisfied: zipp>=3.1.0 in ./miniconda3/envs/jupyter_env/lib/python3.9/site-packages (from importlib-resources>=3.2.0->matplotlib) (3.21.0)\n",
      "Requirement already satisfied: annotated-types>=0.6.0 in ./miniconda3/envs/jupyter_env/lib/python3.9/site-packages (from pydantic<3->wandb) (0.7.0)\n",
      "Requirement already satisfied: pydantic-core==2.33.2 in ./miniconda3/envs/jupyter_env/lib/python3.9/site-packages (from pydantic<3->wandb) (2.33.2)\n",
      "Requirement already satisfied: typing-inspection>=0.4.0 in ./miniconda3/envs/jupyter_env/lib/python3.9/site-packages (from pydantic<3->wandb) (0.4.0)\n",
      "Requirement already satisfied: charset_normalizer<4,>=2 in ./miniconda3/envs/jupyter_env/lib/python3.9/site-packages (from requests<3,>=2.0.0->wandb) (3.4.1)\n",
      "Requirement already satisfied: idna<4,>=2.5 in ./miniconda3/envs/jupyter_env/lib/python3.9/site-packages (from requests<3,>=2.0.0->wandb) (3.10)\n",
      "Requirement already satisfied: urllib3<3,>=1.21.1 in ./miniconda3/envs/jupyter_env/lib/python3.9/site-packages (from requests<3,>=2.0.0->wandb) (2.3.0)\n",
      "Requirement already satisfied: certifi>=2017.4.17 in ./miniconda3/envs/jupyter_env/lib/python3.9/site-packages (from requests<3,>=2.0.0->wandb) (2025.1.31)\n",
      "Requirement already satisfied: tqdm>=4.42.1 in ./miniconda3/envs/jupyter_env/lib/python3.9/site-packages (from huggingface_hub->timm) (4.67.1)\n",
      "Requirement already satisfied: MarkupSafe>=2.0 in ./miniconda3/envs/jupyter_env/lib/python3.9/site-packages (from jinja2->torch) (2.1.1)\n",
      "Requirement already satisfied: smmap<6,>=3.0.1 in ./miniconda3/envs/jupyter_env/lib/python3.9/site-packages (from gitdb<5,>=4.0.1->gitpython!=3.1.29,>=1.0.0->wandb) (5.0.2)\n",
      "✔ Seed set to 1234\n",
      "✔ Dataset directory: fitzpatrick17k_dataset\n"
     ]
    }
   ],
   "source": [
    "# Cell 1 — Environment Setup & Cleanup Old W&B Runs\n",
    "\n",
    "!pip install torch torchvision timm wandb scikit-learn matplotlib pandas\n",
    "\n",
    "import os, shutil, random\n",
    "import numpy as np\n",
    "import torch\n",
    "\n",
    "def safe_rmtree(path):\n",
    "    if os.path.isdir(path):\n",
    "        shutil.rmtree(path, ignore_errors=True)\n",
    "        print(f\"Removed old directory: {path}\")\n",
    "\n",
    "# Remove any old W&B dirs\n",
    "for d in [\"wandb\", \"wandb_folder2\", \"wandb_folder3\"]:\n",
    "    safe_rmtree(d)\n",
    "\n",
    "# Reproducibility\n",
    "seed = 1234\n",
    "random.seed(seed)\n",
    "np.random.seed(seed)\n",
    "torch.manual_seed(seed)\n",
    "torch.cuda.manual_seed_all(seed)\n",
    "torch.backends.cudnn.deterministic = True\n",
    "torch.backends.cudnn.benchmark     = False\n",
    "print(\" Seed set to\", seed)\n",
    "\n",
    "#Point the dataset at the correct folder\n",
    "base_dir = \"fitzpatrick17k_dataset\"\n",
    "if not os.path.isdir(base_dir):\n",
    "    raise FileNotFoundError(f\"Dataset directory not found: {base_dir}\")\n",
    "print(\" Dataset directory:\", base_dir)\n"
   ]
  },
  {
   "cell_type": "code",
   "execution_count": 37,
   "id": "a3610d81-cd85-41aa-a581-52fd65e03e99",
   "metadata": {},
   "outputs": [
    {
     "data": {
      "image/png": "[encoded data removed]",
      "text/plain": [
       "<Figure size 1000x400 with 1 Axes>"
      ]
     },
     "metadata": {},
     "output_type": "display_data"
    },
    {
     "data": {
      "image/png": "[encoded data removed]",
      "text/plain": [
       "<Figure size 1000x400 with 1 Axes>"
      ]
     },
     "metadata": {},
     "output_type": "display_data"
    },
    {
     "data": {
      "image/png": "[encoded data removed]",
      "text/plain": [
       "<Figure size 1200x500 with 1 Axes>"
      ]
     },
     "metadata": {},
     "output_type": "display_data"
    },
    {
     "data": {
      "image/png": "[encoded data removed]",
      "text/plain": [
       "<Figure size 1200x500 with 1 Axes>"
      ]
     },
     "metadata": {},
     "output_type": "display_data"
    },
    {
     "data": {
      "image/png": "[encoded data removed]",
      "text/plain": [
       "<Figure size 600x600 with 1 Axes>"
      ]
     },
     "metadata": {},
     "output_type": "display_data"
    }
   ],
   "source": [
    "# Cell 2 — Metadata Exploration & Plots (expanded)\n",
    "\n",
    "import pandas as pd\n",
    "import matplotlib.pyplot as plt\n",
    "\n",
    "df = pd.read_csv(\"fitzpatrick17k.csv\")\n",
    "counts = df['label'].value_counts()\n",
    "\n",
    "# 1) Histogram of images per disease\n",
    "plt.figure(figsize=(10,4))\n",
    "plt.hist(counts, bins=50)\n",
    "plt.title(\"Distribution of Images per Disease\")\n",
    "plt.xlabel(\"Images per Disease\")\n",
    "plt.ylabel(\"Number of Diseases\")\n",
    "plt.show()\n",
    "\n",
    "# 2) Cumulative coverage by top-k classes\n",
    "cum = counts.sort_values(ascending=False).cumsum() / counts.sum()\n",
    "plt.figure(figsize=(10,4))\n",
    "plt.plot(cum.values, label=\"Cumulative fraction\")\n",
    "plt.axhline(0.80, color='red', linestyle='--', label=\"80% coverage\")\n",
    "plt.title(\"How Many Classes Cover 80% of Images?\")\n",
    "plt.xlabel(\"Class rank (by freq)\")\n",
    "plt.ylabel(\"Cumulative fraction of images\")\n",
    "plt.legend()\n",
    "plt.show()\n",
    "\n",
    "# 3) Top 20 most common diseases\n",
    "plt.figure(figsize=(12,5))\n",
    "counts.head(20).plot(kind='bar')\n",
    "plt.title(\"Top 20 Most Frequent Diseases\")\n",
    "plt.ylabel(\"Image Count\")\n",
    "plt.xticks(rotation=45, ha='right')\n",
    "plt.tight_layout()\n",
    "plt.show()\n",
    "\n",
    "# 4) 20 Rarest diseases\n",
    "plt.figure(figsize=(12,5))\n",
    "counts.tail(20).plot(kind='bar')\n",
    "plt.title(\"20 Rarest Diseases\")\n",
    "plt.ylabel(\"Image Count\")\n",
    "plt.xticks(rotation=45, ha='right')\n",
    "plt.tight_layout()\n",
    "plt.show()\n",
    "\n",
    "# 5) Fitzpatrick scale breakdown (if available)\n",
    "if 'fitzpatrick_scale' in df.columns:\n",
    "    plt.figure(figsize=(6,6))\n",
    "    df['fitzpatrick_scale'].value_counts().plot(\n",
    "        kind='pie', autopct='%1.1f%%', startangle=90\n",
    "    )\n",
    "    plt.title(\"Fitzpatrick Scale Distribution\")\n",
    "    plt.ylabel(\"\")\n",
    "    plt.show()\n",
    "\n"
   ]
  },
  {
   "cell_type": "code",
   "execution_count": 38,
   "id": "93e849bf-a91f-4325-8c84-d0764a39cd22",
   "metadata": {},
   "outputs": [
    {
     "name": "stdout",
     "output_type": "stream",
     "text": [
      "Train transforms: Compose(\n",
      "    RandomResizedCrop(size=(224, 224), scale=(0.08, 1.0), ratio=(0.75, 1.3333), interpolation=bilinear, antialias=True)\n",
      "    RandomHorizontalFlip(p=0.5)\n",
      "    ColorJitter(brightness=(0.9, 1.1), contrast=(0.9, 1.1), saturation=(0.9, 1.1), hue=(-0.05, 0.05))\n",
      "    ToTensor()\n",
      "    Normalize(mean=[0.485, 0.456, 0.406], std=[0.229, 0.224, 0.225])\n",
      ")\n",
      "Test transforms:  Compose(\n",
      "    Resize(size=256, interpolation=bilinear, max_size=None, antialias=True)\n",
      "    CenterCrop(size=(224, 224))\n",
      "    ToTensor()\n",
      "    Normalize(mean=[0.485, 0.456, 0.406], std=[0.229, 0.224, 0.225])\n",
      ")\n"
     ]
    }
   ],
   "source": [
    "# Cell 3 — Define Mild Augmentations & Transforms\n",
    "\n",
    "import torchvision.transforms as T\n",
    "\n",
    "mean, std = [0.485, 0.456, 0.406], [0.229, 0.224, 0.225]\n",
    "\n",
    "# Mild training augmentations\n",
    "train_transforms = T.Compose([\n",
    "    T.RandomResizedCrop(224),\n",
    "    T.RandomHorizontalFlip(p=0.5),\n",
    "    T.ColorJitter(0.1, 0.1, 0.1, 0.05),\n",
    "    T.ToTensor(),\n",
    "    T.Normalize(mean, std),\n",
    "])\n",
    "\n",
    "# Standard test transforms\n",
    "test_transforms = T.Compose([\n",
    "    T.Resize(256),\n",
    "    T.CenterCrop(224),\n",
    "    T.ToTensor(),\n",
    "    T.Normalize(mean, std),\n",
    "])\n",
    "\n",
    "print(\"Train transforms:\", train_transforms)\n",
    "print(\"Test transforms: \", test_transforms)\n"
   ]
  },
  {
   "cell_type": "code",
   "execution_count": 39,
   "id": "3e13c130-7ea2-4bb5-9ddd-70ddf7dc2e67",
   "metadata": {},
   "outputs": [
    {
     "name": "stdout",
     "output_type": "stream",
     "text": [
      "Keeping 114 classes (≥49 samples)\n",
      "→ train: 4459 samples, test: 1115 samples\n"
     ]
    }
   ],
   "source": [
    "# Cell 4 — Filter to ≥49-shot Classes & Stratified Split (self-contained)\n",
    "\n",
    "import os\n",
    "import shutil\n",
    "import pandas as pd\n",
    "from torchvision.datasets import ImageFolder\n",
    "from sklearn.model_selection import train_test_split\n",
    "\n",
    "# 0) Remove stray “.ipynb_checkpoints” folders\n",
    "for root, dirs, _ in os.walk(base_dir):\n",
    "    if \".ipynb_checkpoints\" in dirs:\n",
    "        shutil.rmtree(os.path.join(root, \".ipynb_checkpoints\"))\n",
    "\n",
    "# 1) Read metadata and compute per‐class counts\n",
    "df         = pd.read_csv(\"fitzpatrick17k.csv\")\n",
    "counts     = df[\"label\"].value_counts()               \n",
    "threshold  = 49\n",
    "keep_classes = counts[counts >= threshold].index.tolist()\n",
    "print(f\"Keeping {len(keep_classes)} classes (≥{threshold} samples)\")\n",
    "\n",
    "# 2) Build ImageFolder & mapping\n",
    "full_ds      = ImageFolder(root=base_dir, transform=None)\n",
    "class_to_idx = full_ds.class_to_idx\n",
    "\n",
    "# 3) Collect sample indices for kept classes\n",
    "filtered = [\n",
    "    (i, lbl)\n",
    "    for i, (_, lbl) in enumerate(full_ds.samples)\n",
    "    if full_ds.classes[lbl] in keep_classes\n",
    "]\n",
    "indices, labels = zip(*filtered)\n",
    "\n",
    "# 4) Stratified 80/20 split\n",
    "train_idx, test_idx = train_test_split(\n",
    "    list(indices),\n",
    "    test_size=0.2,\n",
    "    stratify=labels,\n",
    "    random_state=seed\n",
    ")\n",
    "print(f\"→ train: {len(train_idx)} samples, test: {len(test_idx)} samples\")\n"
   ]
  },
  {
   "cell_type": "code",
   "execution_count": 54,
   "id": "cc673016-8f3f-4b67-b75f-940d2b894ddd",
   "metadata": {},
   "outputs": [
    {
     "name": "stdout",
     "output_type": "stream",
     "text": [
      "Num classes = 114\n"
     ]
    }
   ],
   "source": [
    "\n",
    "num_classes = len(keep_classes)\n",
    "print(\"Num classes =\", num_classes)\n"
   ]
  },
  {
   "cell_type": "code",
   "execution_count": 55,
   "id": "75650181-6f5a-4616-ac1c-5697ce0dad18",
   "metadata": {},
   "outputs": [
    {
     "name": "stdout",
     "output_type": "stream",
     "text": [
      "✔️ DataLoaders ready – train 4459 samples, test 1115 samples\n"
     ]
    },
    {
     "name": "stderr",
     "output_type": "stream",
     "text": [
      "/home/kerem.farzaliyev001/miniconda3/envs/jupyter_env/lib/python3.9/site-packages/torch/utils/data/dataloader.py:624: UserWarning: This DataLoader will create 4 worker processes in total. Our suggested max number of worker in current system is 2, which is smaller than what this DataLoader is going to create. Please be aware that excessive worker creation might get DataLoader running slow or even freeze, lower the worker number to avoid potential slowness/freeze if necessary.\n",
      "  warnings.warn(\n"
     ]
    }
   ],
   "source": [
    "# Cell 5 — Build Subsets, Weighted Sampler & DataLoaders\n",
    "\n",
    "from torch.utils.data import Subset, DataLoader\n",
    "from torch.utils.data.sampler import WeightedRandomSampler\n",
    "from collections import Counter\n",
    "\n",
    "batch_size = 16\n",
    "\n",
    "# 1) Create train & test Subsets with your mild transforms\n",
    "train_ds = Subset(\n",
    "    ImageFolder(root=base_dir, transform=train_transforms),\n",
    "    train_idx\n",
    ")\n",
    "test_ds = Subset(\n",
    "    ImageFolder(root=base_dir, transform=test_transforms),\n",
    "    test_idx\n",
    ")\n",
    "\n",
    "# 2) Compute class frequencies on the training split\n",
    "train_labels   = [full_ds.samples[i][1] for i in train_idx]\n",
    "counts         = Counter(train_labels)\n",
    "class_weights  = {c: 1.0/count for c, count in counts.items()}\n",
    "\n",
    "# 3) Build a per-sample weight list & sampler\n",
    "sample_weights = [class_weights[full_ds.samples[i][1]] for i in train_idx]\n",
    "sampler        = WeightedRandomSampler(sample_weights,\n",
    "                                       num_samples=len(sample_weights),\n",
    "                                       replacement=True)\n",
    "\n",
    "# 4) DataLoaders\n",
    "train_loader = DataLoader(\n",
    "    train_ds, batch_size=batch_size, sampler=sampler,\n",
    "    num_workers=4, pin_memory=True\n",
    ")\n",
    "test_loader  = DataLoader(\n",
    "    test_ds, batch_size=batch_size, shuffle=False,\n",
    "    num_workers=4, pin_memory=True\n",
    ")\n",
    "\n",
    "print(f\" DataLoaders ready – train {len(train_ds)} samples, test {len(test_ds)} samples\")\n"
   ]
  },
  {
   "cell_type": "code",
   "execution_count": 56,
   "id": "07593536-5a1b-46b9-aefb-93a9dd348576",
   "metadata": {},
   "outputs": [
    {
     "name": "stdout",
     "output_type": "stream",
     "text": [
      "✔ Model helper ready on cuda\n"
     ]
    }
   ],
   "source": [
    "# Cell 6 — Model Helper & Device\n",
    "\n",
    "import torch\n",
    "import torch.nn as nn\n",
    "import torchvision.models as models\n",
    "import timm\n",
    "\n",
    "# 1) Device\n",
    "device = torch.device(\"cuda\" if torch.cuda.is_available() else \"cpu\")\n",
    "\n",
    "# 2) Model factory: returns a model on `device`, with a dropout‐augmented head\n",
    "def get_model(name, num_classes, pretrained=True, dropout=0.3):\n",
    "    if name == \"resnet50\":\n",
    "        m = models.resnet50(pretrained=pretrained)\n",
    "        in_f = m.fc.in_features\n",
    "        m.fc = nn.Sequential(nn.Dropout(dropout), nn.Linear(in_f, num_classes))\n",
    "    elif name == \"resnet101\":\n",
    "        m = models.resnet101(pretrained=pretrained)\n",
    "        in_f = m.fc.in_features\n",
    "        m.fc = nn.Sequential(nn.Dropout(dropout), nn.Linear(in_f, num_classes))\n",
    "    elif name == \"densenet201\":\n",
    "        m = models.densenet201(pretrained=pretrained)\n",
    "        in_f = m.classifier.in_features\n",
    "        m.classifier = nn.Sequential(nn.Dropout(dropout), nn.Linear(in_f, num_classes))\n",
    "    elif name == \"efficientnet_b0\":\n",
    "        m = models.efficientnet_b0(pretrained=pretrained)\n",
    "        in_f = m.classifier[1].in_features\n",
    "        m.classifier = nn.Sequential(nn.Dropout(dropout), nn.Linear(in_f, num_classes))\n",
    "    elif name == \"convnext_base\":\n",
    "        m = timm.create_model(\"convnext_base\", pretrained=pretrained, num_classes=num_classes)\n",
    "    elif name == \"mobilenetv3_large\":\n",
    "        m = models.mobilenet_v3_large(pretrained=pretrained)\n",
    "        in_f = m.classifier[-1].in_features\n",
    "        m.classifier = nn.Sequential(nn.Dropout(dropout), nn.Linear(in_f, num_classes))\n",
    "    elif name == \"deit_tiny_distilled\":\n",
    "        m = timm.create_model(\"deit_tiny_distilled_patch16_224\", pretrained=pretrained, num_classes=num_classes)\n",
    "    elif name == \"vit_base_patch16_224\":\n",
    "        m = timm.create_model(\"vit_base_patch16_224\", pretrained=pretrained, num_classes=num_classes)\n",
    "    elif name == \"swin_base_patch4_window7_224\":\n",
    "        m = timm.create_model(\"swin_base_patch4_window7_224\", pretrained=pretrained, num_classes=num_classes)\n",
    "    elif name == \"efficientnetv2_m\":\n",
    "        # no official pretrained weights; use random init\n",
    "        m = timm.create_model(\"efficientnetv2_m\", pretrained=False, num_classes=num_classes)\n",
    "    else:\n",
    "        raise ValueError(f\"Unknown model: {name}\")\n",
    "    return m.to(device)\n",
    "\n",
    "print(\"✔ Model helper ready on\", device)\n"
   ]
  },
  {
   "cell_type": "code",
   "execution_count": 60,
   "id": "818e8cab-35a2-4425-8a6b-098e191155cb",
   "metadata": {},
   "outputs": [
    {
     "name": "stdout",
     "output_type": "stream",
     "text": [
      "✔ make_optimizer_and_scheduler ready (you’ll pass cfg.lr, cfg.weight_decay, cfg.epochs)\n"
     ]
    }
   ],
   "source": [
    "# Cell 7 — Loss, Optimizer & Scheduler\n",
    "import torch.nn as nn\n",
    "import torch.optim as optim\n",
    "from torch.optim.lr_scheduler import CosineAnnealingLR\n",
    "\n",
    "# standard cross‐entropy\n",
    "criterion = nn.CrossEntropyLoss()\n",
    "\n",
    "def make_optimizer_and_scheduler(model, lr, weight_decay, epochs):\n",
    "    optimizer = optim.AdamW(model.parameters(), lr=lr, weight_decay=weight_decay)\n",
    "    # cosine decay from lr → 0 over “epochs” steps\n",
    "    scheduler = CosineAnnealingLR(optimizer, T_max=epochs)\n",
    "    return optimizer, scheduler\n",
    "\n",
    "print(\" make_optimizer_and_scheduler ready)\n",
    "\n"
   ]
  },
  {
   "cell_type": "code",
   "execution_count": 61,
   "id": "ca38dcc8-c758-41df-9893-92e7b688d626",
   "metadata": {},
   "outputs": [
    {
     "name": "stderr",
     "output_type": "stream",
     "text": [
      "\u001b[34m\u001b[1mwandb\u001b[0m: \u001b[33mWARNING\u001b[0m Calling wandb.login() after wandb.init() has no effect.\n"
     ]
    },
    {
     "data": {
      "text/html": [
       "Finishing previous runs because reinit is set to True."
      ],
      "text/plain": [
       "<IPython.core.display.HTML object>"
      ]
     },
     "metadata": {},
     "output_type": "display_data"
    },
    {
     "data": {
      "text/html": [],
      "text/plain": [
       "<IPython.core.display.HTML object>"
      ]
     },
     "metadata": {},
     "output_type": "display_data"
    },
    {
     "data": {
      "text/html": [
       " View run <strong style=\"color:#cdcd00\">resnet50_bs16_seed1234</strong> at: <a href='https://wandb.ai/keremfarzaliyev-umass-boston/dermatology-ai-v10/runs/vvet30vq' target=\"_blank\">https://wandb.ai/keremfarzaliyev-umass-boston/dermatology-ai-v10/runs/vvet30vq</a><br> View project at: <a href='https://wandb.ai/keremfarzaliyev-umass-boston/dermatology-ai-v10' target=\"_blank\">https://wandb.ai/keremfarzaliyev-umass-boston/dermatology-ai-v10</a><br>Synced 5 W&B file(s), 0 media file(s), 0 artifact file(s) and 0 other file(s)"
      ],
      "text/plain": [
       "<IPython.core.display.HTML object>"
      ]
     },
     "metadata": {},
     "output_type": "display_data"
    },
    {
     "data": {
      "text/html": [
       "Find logs at: <code>./wandb/run-20250527_201412-vvet30vq/logs</code>"
      ],
      "text/plain": [
       "<IPython.core.display.HTML object>"
      ]
     },
     "metadata": {},
     "output_type": "display_data"
    },
    {
     "data": {
      "text/html": [
       "Tracking run with wandb version 0.19.11"
      ],
      "text/plain": [
       "<IPython.core.display.HTML object>"
      ]
     },
     "metadata": {},
     "output_type": "display_data"
    },
    {
     "data": {
      "text/html": [
       "Run data is saved locally in <code>/home/kerem.farzaliyev001/wandb/run-20250527_201656-zyknk01a</code>"
      ],
      "text/plain": [
       "<IPython.core.display.HTML object>"
      ]
     },
     "metadata": {},
     "output_type": "display_data"
    },
    {
     "data": {
      "text/html": [
       "Syncing run <strong><a href='https://wandb.ai/keremfarzaliyev-umass-boston/dermatology-ai-v10/runs/zyknk01a' target=\"_blank\">baseline_bs16_seed1234</a></strong> to <a href='https://wandb.ai/keremfarzaliyev-umass-boston/dermatology-ai-v10' target=\"_blank\">Weights & Biases</a> (<a href='https://wandb.me/developer-guide' target=\"_blank\">docs</a>)<br>"
      ],
      "text/plain": [
       "<IPython.core.display.HTML object>"
      ]
     },
     "metadata": {},
     "output_type": "display_data"
    },
    {
     "data": {
      "text/html": [
       " View project at <a href='https://wandb.ai/keremfarzaliyev-umass-boston/dermatology-ai-v10' target=\"_blank\">https://wandb.ai/keremfarzaliyev-umass-boston/dermatology-ai-v10</a>"
      ],
      "text/plain": [
       "<IPython.core.display.HTML object>"
      ]
     },
     "metadata": {},
     "output_type": "display_data"
    },
    {
     "data": {
      "text/html": [
       " View run at <a href='https://wandb.ai/keremfarzaliyev-umass-boston/dermatology-ai-v10/runs/zyknk01a' target=\"_blank\">https://wandb.ai/keremfarzaliyev-umass-boston/dermatology-ai-v10/runs/zyknk01a</a>"
      ],
      "text/plain": [
       "<IPython.core.display.HTML object>"
      ]
     },
     "metadata": {},
     "output_type": "display_data"
    }
   ],
   "source": [
    "# Cell 8 — W&B Init & Hookup\n",
    "\n",
    "import wandb\n",
    "\n",
    "# 1) Login & init\n",
    "wandb.login()\n",
    "run = wandb.init(\n",
    "    project=\"dermatology-ai-v10\",\n",
    "    name=\"baseline_bs16_seed1234\",\n",
    "    config={\n",
    "        \"batch_size\": 16,\n",
    "        \"seed\": 1234,\n",
    "        \"threshold\": 49,\n",
    "        \"epochs\": 30,\n",
    "        \"lr\": 1e-4,\n",
    "        \"weight_decay\": 1e-3,\n",
    "        \"patience\": 5,\n",
    "        \"augmentation\": \"mild\",\n",
    "    },\n",
    "    reinit=True\n",
    ")\n",
    "\n",
    "# 2) Pull into cfg and copy to a plain dict\n",
    "cfg         = wandb.config\n",
    "base_config = dict(cfg)   \n"
   ]
  },
  {
   "cell_type": "code",
   "execution_count": 63,
   "id": "7fc87439-f057-4d1f-ae8f-ede0d3f15385",
   "metadata": {},
   "outputs": [
    {
     "data": {
      "text/html": [
       "Finishing previous runs because reinit is set to True."
      ],
      "text/plain": [
       "<IPython.core.display.HTML object>"
      ]
     },
     "metadata": {},
     "output_type": "display_data"
    },
    {
     "data": {
      "text/html": [],
      "text/plain": [
       "<IPython.core.display.HTML object>"
      ]
     },
     "metadata": {},
     "output_type": "display_data"
    },
    {
     "data": {
      "text/html": [
       " View run <strong style=\"color:#cdcd00\">resnet50_bs16_seed1234</strong> at: <a href='https://wandb.ai/keremfarzaliyev-umass-boston/dermatology-ai-v10/runs/i82bggp4' target=\"_blank\">https://wandb.ai/keremfarzaliyev-umass-boston/dermatology-ai-v10/runs/i82bggp4</a><br> View project at: <a href='https://wandb.ai/keremfarzaliyev-umass-boston/dermatology-ai-v10' target=\"_blank\">https://wandb.ai/keremfarzaliyev-umass-boston/dermatology-ai-v10</a><br>Synced 5 W&B file(s), 0 media file(s), 0 artifact file(s) and 0 other file(s)"
      ],
      "text/plain": [
       "<IPython.core.display.HTML object>"
      ]
     },
     "metadata": {},
     "output_type": "display_data"
    },
    {
     "data": {
      "text/html": [
       "Find logs at: <code>./wandb/run-20250527_201659-i82bggp4/logs</code>"
      ],
      "text/plain": [
       "<IPython.core.display.HTML object>"
      ]
     },
     "metadata": {},
     "output_type": "display_data"
    },
    {
     "data": {
      "text/html": [
       "Tracking run with wandb version 0.19.11"
      ],
      "text/plain": [
       "<IPython.core.display.HTML object>"
      ]
     },
     "metadata": {},
     "output_type": "display_data"
    },
    {
     "data": {
      "text/html": [
       "Run data is saved locally in <code>/home/kerem.farzaliyev001/wandb/run-20250527_201721-wqt2ltul</code>"
      ],
      "text/plain": [
       "<IPython.core.display.HTML object>"
      ]
     },
     "metadata": {},
     "output_type": "display_data"
    },
    {
     "data": {
      "text/html": [
       "Syncing run <strong><a href='https://wandb.ai/keremfarzaliyev-umass-boston/dermatology-ai-v10/runs/wqt2ltul' target=\"_blank\">resnet50_bs16_seed1234</a></strong> to <a href='https://wandb.ai/keremfarzaliyev-umass-boston/dermatology-ai-v10' target=\"_blank\">Weights & Biases</a> (<a href='https://wandb.me/developer-guide' target=\"_blank\">docs</a>)<br>"
      ],
      "text/plain": [
       "<IPython.core.display.HTML object>"
      ]
     },
     "metadata": {},
     "output_type": "display_data"
    },
    {
     "data": {
      "text/html": [
       " View project at <a href='https://wandb.ai/keremfarzaliyev-umass-boston/dermatology-ai-v10' target=\"_blank\">https://wandb.ai/keremfarzaliyev-umass-boston/dermatology-ai-v10</a>"
      ],
      "text/plain": [
       "<IPython.core.display.HTML object>"
      ]
     },
     "metadata": {},
     "output_type": "display_data"
    },
    {
     "data": {
      "text/html": [
       " View run at <a href='https://wandb.ai/keremfarzaliyev-umass-boston/dermatology-ai-v10/runs/wqt2ltul' target=\"_blank\">https://wandb.ai/keremfarzaliyev-umass-boston/dermatology-ai-v10/runs/wqt2ltul</a>"
      ],
      "text/plain": [
       "<IPython.core.display.HTML object>"
      ]
     },
     "metadata": {},
     "output_type": "display_data"
    },
    {
     "name": "stdout",
     "output_type": "stream",
     "text": [
      "[ResNet50] Epoch 1: train_acc=0.2530, val_acc=0.3103\n",
      "[ResNet50] Epoch 2: train_acc=0.4153, val_acc=0.3623\n",
      "[ResNet50] Epoch 3: train_acc=0.5089, val_acc=0.4197\n",
      "[ResNet50] Epoch 4: train_acc=0.5508, val_acc=0.4341\n",
      "[ResNet50] Epoch 5: train_acc=0.5934, val_acc=0.4673\n",
      "[ResNet50] Epoch 6: train_acc=0.6279, val_acc=0.4978\n",
      "[ResNet50] Epoch 7: train_acc=0.6584, val_acc=0.4825\n",
      "[ResNet50] Epoch 8: train_acc=0.6878, val_acc=0.5175\n",
      "[ResNet50] Epoch 9: train_acc=0.7073, val_acc=0.5274\n",
      "[ResNet50] Epoch 10: train_acc=0.7168, val_acc=0.5318\n",
      "[ResNet50] Epoch 11: train_acc=0.7434, val_acc=0.5471\n",
      "[ResNet50] Epoch 12: train_acc=0.7522, val_acc=0.5614\n",
      "[ResNet50] Epoch 13: train_acc=0.7766, val_acc=0.5605\n",
      "[ResNet50] Epoch 14: train_acc=0.7733, val_acc=0.5605\n",
      "[ResNet50] Epoch 15: train_acc=0.8017, val_acc=0.5892\n",
      "[ResNet50] Epoch 16: train_acc=0.8132, val_acc=0.5865\n",
      "[ResNet50] Epoch 17: train_acc=0.8278, val_acc=0.5857\n",
      "[ResNet50] Epoch 18: train_acc=0.8322, val_acc=0.5910\n",
      "[ResNet50] Epoch 19: train_acc=0.8531, val_acc=0.6009\n",
      "[ResNet50] Epoch 20: train_acc=0.8482, val_acc=0.6045\n",
      "[ResNet50] Epoch 21: train_acc=0.8704, val_acc=0.6224\n",
      "[ResNet50] Epoch 22: train_acc=0.8737, val_acc=0.6099\n",
      "[ResNet50] Epoch 23: train_acc=0.8800, val_acc=0.6242\n",
      "[ResNet50] Epoch 24: train_acc=0.8876, val_acc=0.6215\n",
      "[ResNet50] Epoch 25: train_acc=0.8959, val_acc=0.6269\n",
      "[ResNet50] Epoch 26: train_acc=0.8959, val_acc=0.6287\n",
      "[ResNet50] Epoch 27: train_acc=0.8973, val_acc=0.6251\n",
      "[ResNet50] Epoch 28: train_acc=0.8998, val_acc=0.6404\n",
      "[ResNet50] Epoch 29: train_acc=0.9056, val_acc=0.6251\n",
      "[ResNet50] Epoch 30: train_acc=0.8989, val_acc=0.6332\n"
     ]
    },
    {
     "data": {
      "text/html": [],
      "text/plain": [
       "<IPython.core.display.HTML object>"
      ]
     },
     "metadata": {},
     "output_type": "display_data"
    },
    {
     "data": {
      "text/html": [
       "<br>    <style><br>        .wandb-row {<br>            display: flex;<br>            flex-direction: row;<br>            flex-wrap: wrap;<br>            justify-content: flex-start;<br>            width: 100%;<br>        }<br>        .wandb-col {<br>            display: flex;<br>            flex-direction: column;<br>            flex-basis: 100%;<br>            flex: 1;<br>            padding: 10px;<br>        }<br>    </style><br><div class=\"wandb-row\"><div class=\"wandb-col\"><h3>Run history:</h3><br/><table class=\"wandb\"><tr><td>epoch</td><td>▁▁▁▂▂▂▂▃▃▃▃▄▄▄▄▅▅▅▅▆▆▆▆▇▇▇▇███</td></tr><tr><td>lr</td><td>█████▇▇▇▇▆▆▆▅▅▅▄▄▃▃▃▂▂▂▂▁▁▁▁▁▁</td></tr><tr><td>train_acc</td><td>▁▃▄▄▅▅▅▆▆▆▆▆▇▇▇▇▇▇▇▇██████████</td></tr><tr><td>train_loss</td><td>█▆▅▅▄▄▃▃▃▃▃▂▂▂▂▂▂▂▁▂▁▁▁▁▁▁▁▁▁▁</td></tr><tr><td>val_acc</td><td>▁▂▃▄▄▅▅▅▆▆▆▆▆▆▇▇▇▇▇▇█▇████████</td></tr><tr><td>val_loss</td><td>█▇▅▅▄▄▄▃▃▃▂▂▃▂▂▂▂▂▂▂▁▂▁▁▁▁▁▁▁▁</td></tr></table><br/></div><div class=\"wandb-col\"><h3>Run summary:</h3><br/><table class=\"wandb\"><tr><td>epoch</td><td>30</td></tr><tr><td>lr</td><td>0</td></tr><tr><td>train_acc</td><td>0.89886</td></tr><tr><td>train_loss</td><td>0.35797</td></tr><tr><td>val_acc</td><td>0.63318</td></tr><tr><td>val_loss</td><td>1.4997</td></tr></table><br/></div></div>"
      ],
      "text/plain": [
       "<IPython.core.display.HTML object>"
      ]
     },
     "metadata": {},
     "output_type": "display_data"
    },
    {
     "data": {
      "text/html": [
       " View run <strong style=\"color:#cdcd00\">resnet50_bs16_seed1234</strong> at: <a href='https://wandb.ai/keremfarzaliyev-umass-boston/dermatology-ai-v10/runs/wqt2ltul' target=\"_blank\">https://wandb.ai/keremfarzaliyev-umass-boston/dermatology-ai-v10/runs/wqt2ltul</a><br> View project at: <a href='https://wandb.ai/keremfarzaliyev-umass-boston/dermatology-ai-v10' target=\"_blank\">https://wandb.ai/keremfarzaliyev-umass-boston/dermatology-ai-v10</a><br>Synced 5 W&B file(s), 0 media file(s), 0 artifact file(s) and 0 other file(s)"
      ],
      "text/plain": [
       "<IPython.core.display.HTML object>"
      ]
     },
     "metadata": {},
     "output_type": "display_data"
    },
    {
     "data": {
      "text/html": [
       "Find logs at: <code>./wandb/run-20250527_201721-wqt2ltul/logs</code>"
      ],
      "text/plain": [
       "<IPython.core.display.HTML object>"
      ]
     },
     "metadata": {},
     "output_type": "display_data"
    }
   ],
   "source": [
    "# Cell 9 — Train ResNet-50 (30 epochs, patience=5)\n",
    "import wandb, torch\n",
    "import torch.nn as nn\n",
    "\n",
    "run = wandb.init(\n",
    "    project=\"dermatology-ai-v10\",\n",
    "    name=\"resnet50_bs16_seed1234\",\n",
    "    config={**base_config, \"model\": \"resnet50\"},\n",
    "    reinit=True\n",
    ")\n",
    "cfg = wandb.config\n",
    "\n",
    "# 1) build model + loss\n",
    "model     = get_model(\"resnet50\", num_classes, pretrained=True)\n",
    "criterion = nn.CrossEntropyLoss()\n",
    "\n",
    "# 2) optimizer + scheduler \n",
    "optimizer, scheduler = make_optimizer_and_scheduler(\n",
    "    model,\n",
    "    cfg.lr,\n",
    "    cfg.weight_decay,\n",
    "    cfg.epochs\n",
    ")\n",
    "\n",
    "best_val_acc = 0.0\n",
    "no_improve   = 0\n",
    "\n",
    "for epoch in range(cfg.epochs):\n",
    "    # — Train —\n",
    "    model.train()\n",
    "    running_loss = running_correct = total = 0\n",
    "    for x, y in train_loader:\n",
    "        x, y = x.to(device), y.to(device)\n",
    "        optimizer.zero_grad()\n",
    "        out    = model(x)\n",
    "        loss   = criterion(out, y)\n",
    "        loss.backward()\n",
    "        optimizer.step()\n",
    "\n",
    "        running_loss    += loss.item() * x.size(0)\n",
    "        running_correct += (out.argmax(1) == y).sum().item()\n",
    "        total           += x.size(0)\n",
    "\n",
    "    train_loss = running_loss / total\n",
    "    train_acc  = running_correct / total\n",
    "\n",
    "    # — Validate —\n",
    "    model.eval()\n",
    "    v_loss = v_corr = v_tot = 0\n",
    "    with torch.no_grad():\n",
    "        for x, y in test_loader:\n",
    "            x, y   = x.to(device), y.to(device)\n",
    "            out    = model(x)\n",
    "            loss   = criterion(out, y)\n",
    "            v_loss += loss.item() * x.size(0)\n",
    "            v_corr += (out.argmax(1) == y).sum().item()\n",
    "            v_tot  += x.size(0)\n",
    "\n",
    "    val_loss = v_loss / v_tot\n",
    "    val_acc  = v_corr / v_tot\n",
    "\n",
    "    # step the lr‐scheduler\n",
    "    scheduler.step()\n",
    "\n",
    "    # log everything\n",
    "    wandb.log({\n",
    "      \"epoch\":    epoch+1,\n",
    "      \"train_loss\": train_loss, \"train_acc\": train_acc,\n",
    "      \"val_loss\":   val_loss,   \"val_acc\":   val_acc,\n",
    "      \"lr\":         scheduler.get_last_lr()[0]\n",
    "    })\n",
    "\n",
    "    print(f\"[ResNet50] Epoch {epoch+1}: train_acc={train_acc:.4f}, val_acc={val_acc:.4f}\")\n",
    "\n",
    "    # early stop + save best\n",
    "    if val_acc > best_val_acc:\n",
    "        best_val_acc = val_acc\n",
    "        no_improve   = 0\n",
    "        torch.save(model.state_dict(), \"best_resnet50.pt\")\n",
    "    else:\n",
    "        no_improve += 1\n",
    "        if no_improve >= cfg.patience:\n",
    "            print(f\"→ Early stopping at epoch {epoch+1}\")\n",
    "            break\n",
    "\n",
    "run.finish()\n"
   ]
  },
  {
   "cell_type": "code",
   "execution_count": 65,
   "id": "aa82ad13-6d55-4271-bc51-58371d43e09e",
   "metadata": {},
   "outputs": [
    {
     "data": {
      "text/html": [
       "Tracking run with wandb version 0.19.11"
      ],
      "text/plain": [
       "<IPython.core.display.HTML object>"
      ]
     },
     "metadata": {},
     "output_type": "display_data"
    },
    {
     "data": {
      "text/html": [
       "Run data is saved locally in <code>/home/kerem.farzaliyev001/wandb/run-20250527_203603-u1fdjs2e</code>"
      ],
      "text/plain": [
       "<IPython.core.display.HTML object>"
      ]
     },
     "metadata": {},
     "output_type": "display_data"
    },
    {
     "data": {
      "text/html": [
       "Syncing run <strong><a href='https://wandb.ai/keremfarzaliyev-umass-boston/dermatology-ai-v10/runs/u1fdjs2e' target=\"_blank\">densenet201_bs16_seed1234</a></strong> to <a href='https://wandb.ai/keremfarzaliyev-umass-boston/dermatology-ai-v10' target=\"_blank\">Weights & Biases</a> (<a href='https://wandb.me/developer-guide' target=\"_blank\">docs</a>)<br>"
      ],
      "text/plain": [
       "<IPython.core.display.HTML object>"
      ]
     },
     "metadata": {},
     "output_type": "display_data"
    },
    {
     "data": {
      "text/html": [
       " View project at <a href='https://wandb.ai/keremfarzaliyev-umass-boston/dermatology-ai-v10' target=\"_blank\">https://wandb.ai/keremfarzaliyev-umass-boston/dermatology-ai-v10</a>"
      ],
      "text/plain": [
       "<IPython.core.display.HTML object>"
      ]
     },
     "metadata": {},
     "output_type": "display_data"
    },
    {
     "data": {
      "text/html": [
       " View run at <a href='https://wandb.ai/keremfarzaliyev-umass-boston/dermatology-ai-v10/runs/u1fdjs2e' target=\"_blank\">https://wandb.ai/keremfarzaliyev-umass-boston/dermatology-ai-v10/runs/u1fdjs2e</a>"
      ],
      "text/plain": [
       "<IPython.core.display.HTML object>"
      ]
     },
     "metadata": {},
     "output_type": "display_data"
    },
    {
     "name": "stderr",
     "output_type": "stream",
     "text": [
      "/home/kerem.farzaliyev001/miniconda3/envs/jupyter_env/lib/python3.9/site-packages/torchvision/models/_utils.py:223: UserWarning: Arguments other than a weight enum or `None` for 'weights' are deprecated since 0.13 and may be removed in the future. The current behavior is equivalent to passing `weights=DenseNet201_Weights.IMAGENET1K_V1`. You can also use `weights=DenseNet201_Weights.DEFAULT` to get the most up-to-date weights.\n",
      "  warnings.warn(msg)\n"
     ]
    },
    {
     "name": "stdout",
     "output_type": "stream",
     "text": [
      "[DenseNet201] Epoch 1: train_acc=0.2635, val_acc=0.3130\n",
      "[DenseNet201] Epoch 2: train_acc=0.4431, val_acc=0.4520\n",
      "[DenseNet201] Epoch 3: train_acc=0.5490, val_acc=0.4628\n",
      "[DenseNet201] Epoch 4: train_acc=0.6111, val_acc=0.5022\n",
      "[DenseNet201] Epoch 5: train_acc=0.6508, val_acc=0.5399\n",
      "[DenseNet201] Epoch 6: train_acc=0.6975, val_acc=0.5525\n",
      "[DenseNet201] Epoch 7: train_acc=0.7208, val_acc=0.5686\n",
      "[DenseNet201] Epoch 8: train_acc=0.7591, val_acc=0.5749\n",
      "[DenseNet201] Epoch 9: train_acc=0.7737, val_acc=0.5955\n",
      "[DenseNet201] Epoch 10: train_acc=0.7811, val_acc=0.6063\n",
      "[DenseNet201] Epoch 11: train_acc=0.8004, val_acc=0.6135\n",
      "[DenseNet201] Epoch 12: train_acc=0.8215, val_acc=0.5991\n",
      "[DenseNet201] Epoch 13: train_acc=0.8224, val_acc=0.6099\n",
      "[DenseNet201] Epoch 14: train_acc=0.8455, val_acc=0.6332\n",
      "[DenseNet201] Epoch 15: train_acc=0.8677, val_acc=0.6484\n",
      "[DenseNet201] Epoch 16: train_acc=0.8661, val_acc=0.6350\n",
      "[DenseNet201] Epoch 17: train_acc=0.8773, val_acc=0.6323\n",
      "[DenseNet201] Epoch 18: train_acc=0.8802, val_acc=0.6547\n",
      "[DenseNet201] Epoch 19: train_acc=0.8910, val_acc=0.6439\n",
      "[DenseNet201] Epoch 20: train_acc=0.8888, val_acc=0.6457\n",
      "[DenseNet201] Epoch 21: train_acc=0.9038, val_acc=0.6709\n",
      "[DenseNet201] Epoch 22: train_acc=0.9179, val_acc=0.6664\n",
      "[DenseNet201] Epoch 23: train_acc=0.9170, val_acc=0.6726\n",
      "[DenseNet201] Epoch 24: train_acc=0.9249, val_acc=0.6628\n",
      "[DenseNet201] Epoch 25: train_acc=0.9132, val_acc=0.6673\n",
      "[DenseNet201] Epoch 26: train_acc=0.9190, val_acc=0.6700\n",
      "[DenseNet201] Epoch 27: train_acc=0.9251, val_acc=0.6753\n",
      "[DenseNet201] Epoch 28: train_acc=0.9242, val_acc=0.6744\n",
      "[DenseNet201] Epoch 29: train_acc=0.9282, val_acc=0.6691\n",
      "[DenseNet201] Epoch 30: train_acc=0.9199, val_acc=0.6726\n"
     ]
    },
    {
     "data": {
      "text/html": [],
      "text/plain": [
       "<IPython.core.display.HTML object>"
      ]
     },
     "metadata": {},
     "output_type": "display_data"
    },
    {
     "data": {
      "text/html": [
       "<br>    <style><br>        .wandb-row {<br>            display: flex;<br>            flex-direction: row;<br>            flex-wrap: wrap;<br>            justify-content: flex-start;<br>            width: 100%;<br>        }<br>        .wandb-col {<br>            display: flex;<br>            flex-direction: column;<br>            flex-basis: 100%;<br>            flex: 1;<br>            padding: 10px;<br>        }<br>    </style><br><div class=\"wandb-row\"><div class=\"wandb-col\"><h3>Run history:</h3><br/><table class=\"wandb\"><tr><td>epoch</td><td>▁▁▁▂▂▂▂▃▃▃▃▄▄▄▄▅▅▅▅▆▆▆▆▇▇▇▇███</td></tr><tr><td>lr</td><td>█████▇▇▇▇▆▆▆▅▅▅▄▄▃▃▃▂▂▂▂▁▁▁▁▁▁</td></tr><tr><td>train_acc</td><td>▁▃▄▅▅▆▆▆▆▆▇▇▇▇▇▇▇▇████████████</td></tr><tr><td>train_loss</td><td>█▆▅▄▄▃▃▃▂▂▂▂▂▂▂▂▁▁▁▁▁▁▁▁▁▁▁▁▁▁</td></tr><tr><td>val_acc</td><td>▁▄▄▅▅▆▆▆▆▇▇▇▇▇▇▇▇█▇▇██████████</td></tr><tr><td>val_loss</td><td>█▅▄▄▃▃▃▂▂▂▂▂▂▁▁▁▁▁▂▁▁▁▁▁▁▁▁▁▁▁</td></tr></table><br/></div><div class=\"wandb-col\"><h3>Run summary:</h3><br/><table class=\"wandb\"><tr><td>epoch</td><td>30</td></tr><tr><td>lr</td><td>0</td></tr><tr><td>train_acc</td><td>0.91994</td></tr><tr><td>train_loss</td><td>0.29249</td></tr><tr><td>val_acc</td><td>0.67265</td></tr><tr><td>val_loss</td><td>1.34336</td></tr></table><br/></div></div>"
      ],
      "text/plain": [
       "<IPython.core.display.HTML object>"
      ]
     },
     "metadata": {},
     "output_type": "display_data"
    },
    {
     "data": {
      "text/html": [
       " View run <strong style=\"color:#cdcd00\">densenet201_bs16_seed1234</strong> at: <a href='https://wandb.ai/keremfarzaliyev-umass-boston/dermatology-ai-v10/runs/u1fdjs2e' target=\"_blank\">https://wandb.ai/keremfarzaliyev-umass-boston/dermatology-ai-v10/runs/u1fdjs2e</a><br> View project at: <a href='https://wandb.ai/keremfarzaliyev-umass-boston/dermatology-ai-v10' target=\"_blank\">https://wandb.ai/keremfarzaliyev-umass-boston/dermatology-ai-v10</a><br>Synced 5 W&B file(s), 0 media file(s), 0 artifact file(s) and 0 other file(s)"
      ],
      "text/plain": [
       "<IPython.core.display.HTML object>"
      ]
     },
     "metadata": {},
     "output_type": "display_data"
    },
    {
     "data": {
      "text/html": [
       "Find logs at: <code>./wandb/run-20250527_203603-u1fdjs2e/logs</code>"
      ],
      "text/plain": [
       "<IPython.core.display.HTML object>"
      ]
     },
     "metadata": {},
     "output_type": "display_data"
    }
   ],
   "source": [
    "# Cell 10 — Train DenseNet-201 (30 epochs, patience=5)\n",
    "\n",
    "import wandb, torch\n",
    "import torch.nn as nn\n",
    "\n",
    "run = wandb.init(\n",
    "    project=\"dermatology-ai-v10\",\n",
    "    name=\"densenet201_bs16_seed1234\",\n",
    "    config={**base_config, \"model\": \"densenet201\"},\n",
    "    reinit=True\n",
    ")\n",
    "cfg = wandb.config\n",
    "\n",
    "model     = get_model(\"densenet201\", num_classes, pretrained=True)\n",
    "criterion = nn.CrossEntropyLoss()\n",
    "\n",
    "# 2) optimizer + scheduler \n",
    "optimizer, scheduler = make_optimizer_and_scheduler(\n",
    "    model,\n",
    "    cfg.lr,\n",
    "    cfg.weight_decay,\n",
    "    cfg.epochs\n",
    ")\n",
    "\n",
    "best_val_acc = 0.0\n",
    "no_improve   = 0\n",
    "\n",
    "for epoch in range(cfg.epochs):\n",
    "    # — Train —\n",
    "    model.train()\n",
    "    running_loss = running_correct = total = 0\n",
    "    for x, y in train_loader:\n",
    "        x, y = x.to(device), y.to(device)\n",
    "        optimizer.zero_grad()\n",
    "        out    = model(x)\n",
    "        loss   = criterion(out, y)\n",
    "        loss.backward()\n",
    "        optimizer.step()\n",
    "\n",
    "        running_loss    += loss.item() * x.size(0)\n",
    "        running_correct += (out.argmax(1) == y).sum().item()\n",
    "        total           += x.size(0)\n",
    "\n",
    "    train_loss = running_loss / total\n",
    "    train_acc  = running_correct / total\n",
    "\n",
    "\n",
    "    # — Validate —\n",
    "    model.eval()\n",
    "    v_loss = v_corr = v_tot = 0\n",
    "    with torch.no_grad():\n",
    "        for x, y in test_loader:\n",
    "            x, y   = x.to(device), y.to(device)\n",
    "            out    = model(x)\n",
    "            loss   = criterion(out, y)\n",
    "            v_loss += loss.item() * x.size(0)\n",
    "            v_corr += (out.argmax(1) == y).sum().item()\n",
    "            v_tot  += x.size(0)\n",
    "\n",
    "    val_loss = v_loss / v_tot\n",
    "    val_acc  = v_corr / v_tot\n",
    "\n",
    "    # step the lr‐scheduler\n",
    "    scheduler.step()\n",
    "\n",
    "    # log everything\n",
    "    wandb.log({\n",
    "      \"epoch\":    epoch+1,\n",
    "      \"train_loss\": train_loss, \"train_acc\": train_acc,\n",
    "      \"val_loss\":   val_loss,   \"val_acc\":   val_acc,\n",
    "      \"lr\":         scheduler.get_last_lr()[0]\n",
    "    })\n",
    "\n",
    "    print(f\"[DenseNet201] Epoch {epoch+1}: train_acc={train_acc:.4f}, val_acc={val_acc:.4f}\")\n",
    "\n",
    "    if val_acc > best_val_acc:\n",
    "        best_val_acc = val_acc\n",
    "        no_improve   = 0\n",
    "        torch.save(model.state_dict(), \"best_densenet201.pt\")\n",
    "    else:\n",
    "        no_improve += 1\n",
    "        if no_improve >= cfg.patience:\n",
    "            print(f\"→ Early stopping at epoch {epoch+1}\")\n",
    "            break\n",
    "\n",
    "run.finish()\n"
   ]
  },
  {
   "cell_type": "code",
   "execution_count": 66,
   "id": "194aa85f-4812-4e89-ad11-0622587d0a38",
   "metadata": {},
   "outputs": [
    {
     "data": {
      "text/html": [
       "Tracking run with wandb version 0.19.11"
      ],
      "text/plain": [
       "<IPython.core.display.HTML object>"
      ]
     },
     "metadata": {},
     "output_type": "display_data"
    },
    {
     "data": {
      "text/html": [
       "Run data is saved locally in <code>/home/kerem.farzaliyev001/wandb/run-20250527_210053-rg5038ps</code>"
      ],
      "text/plain": [
       "<IPython.core.display.HTML object>"
      ]
     },
     "metadata": {},
     "output_type": "display_data"
    },
    {
     "data": {
      "text/html": [
       "Syncing run <strong><a href='https://wandb.ai/keremfarzaliyev-umass-boston/dermatology-ai-v10/runs/rg5038ps' target=\"_blank\">convnext_base_bs16_seed1234</a></strong> to <a href='https://wandb.ai/keremfarzaliyev-umass-boston/dermatology-ai-v10' target=\"_blank\">Weights & Biases</a> (<a href='https://wandb.me/developer-guide' target=\"_blank\">docs</a>)<br>"
      ],
      "text/plain": [
       "<IPython.core.display.HTML object>"
      ]
     },
     "metadata": {},
     "output_type": "display_data"
    },
    {
     "data": {
      "text/html": [
       " View project at <a href='https://wandb.ai/keremfarzaliyev-umass-boston/dermatology-ai-v10' target=\"_blank\">https://wandb.ai/keremfarzaliyev-umass-boston/dermatology-ai-v10</a>"
      ],
      "text/plain": [
       "<IPython.core.display.HTML object>"
      ]
     },
     "metadata": {},
     "output_type": "display_data"
    },
    {
     "data": {
      "text/html": [
       " View run at <a href='https://wandb.ai/keremfarzaliyev-umass-boston/dermatology-ai-v10/runs/rg5038ps' target=\"_blank\">https://wandb.ai/keremfarzaliyev-umass-boston/dermatology-ai-v10/runs/rg5038ps</a>"
      ],
      "text/plain": [
       "<IPython.core.display.HTML object>"
      ]
     },
     "metadata": {},
     "output_type": "display_data"
    },
    {
     "name": "stdout",
     "output_type": "stream",
     "text": [
      "[ConvNeXt] Epoch 1: train_acc=0.3873, val_acc=0.4529\n",
      "[ConvNeXt] Epoch 2: train_acc=0.6425, val_acc=0.5489\n",
      "[ConvNeXt] Epoch 3: train_acc=0.7428, val_acc=0.5964\n",
      "[ConvNeXt] Epoch 4: train_acc=0.8188, val_acc=0.6413\n",
      "[ConvNeXt] Epoch 5: train_acc=0.8562, val_acc=0.6520\n",
      "[ConvNeXt] Epoch 6: train_acc=0.8690, val_acc=0.6610\n",
      "[ConvNeXt] Epoch 7: train_acc=0.8872, val_acc=0.6601\n",
      "[ConvNeXt] Epoch 8: train_acc=0.9181, val_acc=0.6969\n",
      "[ConvNeXt] Epoch 9: train_acc=0.9148, val_acc=0.6807\n",
      "[ConvNeXt] Epoch 10: train_acc=0.9237, val_acc=0.6816\n",
      "[ConvNeXt] Epoch 11: train_acc=0.9341, val_acc=0.7022\n",
      "[ConvNeXt] Epoch 12: train_acc=0.9394, val_acc=0.6924\n",
      "[ConvNeXt] Epoch 13: train_acc=0.9491, val_acc=0.6969\n",
      "[ConvNeXt] Epoch 14: train_acc=0.9536, val_acc=0.7031\n",
      "[ConvNeXt] Epoch 15: train_acc=0.9527, val_acc=0.7013\n",
      "[ConvNeXt] Epoch 16: train_acc=0.9646, val_acc=0.7031\n",
      "[ConvNeXt] Epoch 17: train_acc=0.9547, val_acc=0.7031\n",
      "[ConvNeXt] Epoch 18: train_acc=0.9610, val_acc=0.7067\n",
      "[ConvNeXt] Epoch 19: train_acc=0.9628, val_acc=0.7121\n",
      "[ConvNeXt] Epoch 20: train_acc=0.9720, val_acc=0.7139\n",
      "[ConvNeXt] Epoch 21: train_acc=0.9720, val_acc=0.7283\n",
      "[ConvNeXt] Epoch 22: train_acc=0.9749, val_acc=0.7318\n",
      "[ConvNeXt] Epoch 23: train_acc=0.9735, val_acc=0.7309\n",
      "[ConvNeXt] Epoch 24: train_acc=0.9780, val_acc=0.7309\n",
      "[ConvNeXt] Epoch 25: train_acc=0.9767, val_acc=0.7309\n",
      "[ConvNeXt] Epoch 26: train_acc=0.9794, val_acc=0.7283\n",
      "[ConvNeXt] Epoch 27: train_acc=0.9794, val_acc=0.7318\n",
      "→ Early stopping at epoch 27\n"
     ]
    },
    {
     "data": {
      "text/html": [],
      "text/plain": [
       "<IPython.core.display.HTML object>"
      ]
     },
     "metadata": {},
     "output_type": "display_data"
    },
    {
     "data": {
      "text/html": [
       "<br>    <style><br>        .wandb-row {<br>            display: flex;<br>            flex-direction: row;<br>            flex-wrap: wrap;<br>            justify-content: flex-start;<br>            width: 100%;<br>        }<br>        .wandb-col {<br>            display: flex;<br>            flex-direction: column;<br>            flex-basis: 100%;<br>            flex: 1;<br>            padding: 10px;<br>        }<br>    </style><br><div class=\"wandb-row\"><div class=\"wandb-col\"><h3>Run history:</h3><br/><table class=\"wandb\"><tr><td>epoch</td><td>▁▁▂▂▂▂▃▃▃▃▄▄▄▅▅▅▅▆▆▆▆▇▇▇▇██</td></tr><tr><td>lr</td><td>█████▇▇▇▇▆▆▆▅▅▄▄▄▃▃▃▂▂▂▂▁▁▁</td></tr><tr><td>train_acc</td><td>▁▄▅▆▇▇▇▇▇▇▇████████████████</td></tr><tr><td>train_loss</td><td>█▅▄▃▂▂▂▂▂▂▂▁▁▁▁▁▁▁▁▁▁▁▁▁▁▁▁</td></tr><tr><td>val_acc</td><td>▁▃▅▆▆▆▆▇▇▇▇▇▇▇▇▇▇▇█████████</td></tr><tr><td>val_loss</td><td>█▅▄▃▂▂▂▂▂▂▂▂▂▂▂▂▂▂▁▁▂▁▁▁▁▁▁</td></tr></table><br/></div><div class=\"wandb-col\"><h3>Run summary:</h3><br/><table class=\"wandb\"><tr><td>epoch</td><td>27</td></tr><tr><td>lr</td><td>0.0</td></tr><tr><td>train_acc</td><td>0.97937</td></tr><tr><td>train_loss</td><td>0.06681</td></tr><tr><td>val_acc</td><td>0.73184</td></tr><tr><td>val_loss</td><td>1.13036</td></tr></table><br/></div></div>"
      ],
      "text/plain": [
       "<IPython.core.display.HTML object>"
      ]
     },
     "metadata": {},
     "output_type": "display_data"
    },
    {
     "data": {
      "text/html": [
       " View run <strong style=\"color:#cdcd00\">convnext_base_bs16_seed1234</strong> at: <a href='https://wandb.ai/keremfarzaliyev-umass-boston/dermatology-ai-v10/runs/rg5038ps' target=\"_blank\">https://wandb.ai/keremfarzaliyev-umass-boston/dermatology-ai-v10/runs/rg5038ps</a><br> View project at: <a href='https://wandb.ai/keremfarzaliyev-umass-boston/dermatology-ai-v10' target=\"_blank\">https://wandb.ai/keremfarzaliyev-umass-boston/dermatology-ai-v10</a><br>Synced 5 W&B file(s), 0 media file(s), 0 artifact file(s) and 0 other file(s)"
      ],
      "text/plain": [
       "<IPython.core.display.HTML object>"
      ]
     },
     "metadata": {},
     "output_type": "display_data"
    },
    {
     "data": {
      "text/html": [
       "Find logs at: <code>./wandb/run-20250527_210053-rg5038ps/logs</code>"
      ],
      "text/plain": [
       "<IPython.core.display.HTML object>"
      ]
     },
     "metadata": {},
     "output_type": "display_data"
    }
   ],
   "source": [
    "# Cell 13 — Train ConvNeXt-Base (30 epochs, patience=5)\n",
    "\n",
    "import wandb, torch\n",
    "import torch.nn as nn\n",
    "\n",
    "run = wandb.init(\n",
    "    project=\"dermatology-ai-v10\",\n",
    "    name=\"convnext_base_bs16_seed1234\",\n",
    "    config={**base_config, \"model\": \"convnext_base\"},\n",
    "    reinit=True\n",
    ")\n",
    "cfg = wandb.config\n",
    "\n",
    "model     = get_model(\"convnext_base\", num_classes, pretrained=True)\n",
    "criterion = nn.CrossEntropyLoss()\n",
    "\n",
    "# 2) optimizer + scheduler\n",
    "optimizer, scheduler = make_optimizer_and_scheduler(\n",
    "    model,\n",
    "    cfg.lr,\n",
    "    cfg.weight_decay,\n",
    "    cfg.epochs\n",
    ")\n",
    "\n",
    "best_val_acc = 0.0\n",
    "no_improve   = 0\n",
    "\n",
    "for epoch in range(cfg.epochs):\n",
    "    # — Train —\n",
    "    model.train()\n",
    "    running_loss = running_correct = total = 0\n",
    "    for x, y in train_loader:\n",
    "        x, y = x.to(device), y.to(device)\n",
    "        optimizer.zero_grad()\n",
    "        out    = model(x)\n",
    "        loss   = criterion(out, y)\n",
    "        loss.backward()\n",
    "        optimizer.step()\n",
    "\n",
    "        running_loss    += loss.item() * x.size(0)\n",
    "        running_correct += (out.argmax(1) == y).sum().item()\n",
    "        total           += x.size(0)\n",
    "\n",
    "    train_loss = running_loss / total\n",
    "    train_acc  = running_correct / total\n",
    "\n",
    "\n",
    "    # — Validate —\n",
    "    model.eval()\n",
    "    v_loss = v_corr = v_tot = 0\n",
    "    with torch.no_grad():\n",
    "        for x, y in test_loader:\n",
    "            x, y   = x.to(device), y.to(device)\n",
    "            out    = model(x)\n",
    "            loss   = criterion(out, y)\n",
    "            v_loss += loss.item() * x.size(0)\n",
    "            v_corr += (out.argmax(1) == y).sum().item()\n",
    "            v_tot  += x.size(0)\n",
    "\n",
    "    val_loss = v_loss / v_tot\n",
    "    val_acc  = v_corr / v_tot\n",
    "\n",
    "    # step the lr‐scheduler\n",
    "    scheduler.step()\n",
    "\n",
    "    # log everything\n",
    "    wandb.log({\n",
    "      \"epoch\":    epoch+1,\n",
    "      \"train_loss\": train_loss, \"train_acc\": train_acc,\n",
    "      \"val_loss\":   val_loss,   \"val_acc\":   val_acc,\n",
    "      \"lr\":         scheduler.get_last_lr()[0]\n",
    "    })\n",
    "\n",
    "    print(f\"[ConvNeXt] Epoch {epoch+1}: train_acc={train_acc:.4f}, val_acc={val_acc:.4f}\")\n",
    "\n",
    "    if val_acc > best_val_acc:\n",
    "        best_val_acc = val_acc\n",
    "        no_improve   = 0\n",
    "        torch.save(model.state_dict(), \"best_convnext_base.pt\")\n",
    "    else:\n",
    "        no_improve += 1\n",
    "        if no_improve >= cfg.patience:\n",
    "            print(f\"→ Early stopping at epoch {epoch+1}\")\n",
    "            break\n",
    "\n",
    "run.finish()\n"
   ]
  },
  {
   "cell_type": "code",
   "execution_count": 68,
   "id": "a20c3b93-44f7-470b-93a9-2091aced4412",
   "metadata": {},
   "outputs": [
    {
     "data": {
      "text/html": [
       "Finishing previous runs because reinit is set to True."
      ],
      "text/plain": [
       "<IPython.core.display.HTML object>"
      ]
     },
     "metadata": {},
     "output_type": "display_data"
    },
    {
     "data": {
      "text/html": [],
      "text/plain": [
       "<IPython.core.display.HTML object>"
      ]
     },
     "metadata": {},
     "output_type": "display_data"
    },
    {
     "data": {
      "text/html": [
       " View run <strong style=\"color:#cdcd00\">mobilenetv3_large_bs16_seed1234</strong> at: <a href='https://wandb.ai/keremfarzaliyev-umass-boston/dermatology-ai-v10/runs/4v2q9djp' target=\"_blank\">https://wandb.ai/keremfarzaliyev-umass-boston/dermatology-ai-v10/runs/4v2q9djp</a><br> View project at: <a href='https://wandb.ai/keremfarzaliyev-umass-boston/dermatology-ai-v10' target=\"_blank\">https://wandb.ai/keremfarzaliyev-umass-boston/dermatology-ai-v10</a><br>Synced 5 W&B file(s), 0 media file(s), 0 artifact file(s) and 0 other file(s)"
      ],
      "text/plain": [
       "<IPython.core.display.HTML object>"
      ]
     },
     "metadata": {},
     "output_type": "display_data"
    },
    {
     "data": {
      "text/html": [
       "Find logs at: <code>./wandb/run-20250527_212357-4v2q9djp/logs</code>"
      ],
      "text/plain": [
       "<IPython.core.display.HTML object>"
      ]
     },
     "metadata": {},
     "output_type": "display_data"
    },
    {
     "data": {
      "text/html": [
       "Tracking run with wandb version 0.19.11"
      ],
      "text/plain": [
       "<IPython.core.display.HTML object>"
      ]
     },
     "metadata": {},
     "output_type": "display_data"
    },
    {
     "data": {
      "text/html": [
       "Run data is saved locally in <code>/home/kerem.farzaliyev001/wandb/run-20250527_212616-0nqsv095</code>"
      ],
      "text/plain": [
       "<IPython.core.display.HTML object>"
      ]
     },
     "metadata": {},
     "output_type": "display_data"
    },
    {
     "data": {
      "text/html": [
       "Syncing run <strong><a href='https://wandb.ai/keremfarzaliyev-umass-boston/dermatology-ai-v10/runs/0nqsv095' target=\"_blank\">deit_tiny_distilled_bs16_seed1234</a></strong> to <a href='https://wandb.ai/keremfarzaliyev-umass-boston/dermatology-ai-v10' target=\"_blank\">Weights & Biases</a> (<a href='https://wandb.me/developer-guide' target=\"_blank\">docs</a>)<br>"
      ],
      "text/plain": [
       "<IPython.core.display.HTML object>"
      ]
     },
     "metadata": {},
     "output_type": "display_data"
    },
    {
     "data": {
      "text/html": [
       " View project at <a href='https://wandb.ai/keremfarzaliyev-umass-boston/dermatology-ai-v10' target=\"_blank\">https://wandb.ai/keremfarzaliyev-umass-boston/dermatology-ai-v10</a>"
      ],
      "text/plain": [
       "<IPython.core.display.HTML object>"
      ]
     },
     "metadata": {},
     "output_type": "display_data"
    },
    {
     "data": {
      "text/html": [
       " View run at <a href='https://wandb.ai/keremfarzaliyev-umass-boston/dermatology-ai-v10/runs/0nqsv095' target=\"_blank\">https://wandb.ai/keremfarzaliyev-umass-boston/dermatology-ai-v10/runs/0nqsv095</a>"
      ],
      "text/plain": [
       "<IPython.core.display.HTML object>"
      ]
     },
     "metadata": {},
     "output_type": "display_data"
    },
    {
     "name": "stdout",
     "output_type": "stream",
     "text": [
      "[DeiT-Tiny] Epoch 1: train_acc=0.2196, val_acc=0.2996\n",
      "[DeiT-Tiny] Epoch 2: train_acc=0.4445, val_acc=0.3623\n",
      "[DeiT-Tiny] Epoch 3: train_acc=0.5468, val_acc=0.4000\n",
      "[DeiT-Tiny] Epoch 4: train_acc=0.6210, val_acc=0.4628\n",
      "[DeiT-Tiny] Epoch 5: train_acc=0.6661, val_acc=0.5067\n",
      "[DeiT-Tiny] Epoch 6: train_acc=0.7017, val_acc=0.5085\n",
      "[DeiT-Tiny] Epoch 7: train_acc=0.7423, val_acc=0.5202\n",
      "[DeiT-Tiny] Epoch 8: train_acc=0.7609, val_acc=0.5507\n",
      "[DeiT-Tiny] Epoch 9: train_acc=0.7941, val_acc=0.5821\n",
      "[DeiT-Tiny] Epoch 10: train_acc=0.7986, val_acc=0.5596\n",
      "[DeiT-Tiny] Epoch 11: train_acc=0.8302, val_acc=0.5704\n",
      "[DeiT-Tiny] Epoch 12: train_acc=0.8419, val_acc=0.5740\n",
      "[DeiT-Tiny] Epoch 13: train_acc=0.8589, val_acc=0.6018\n",
      "[DeiT-Tiny] Epoch 14: train_acc=0.8675, val_acc=0.5892\n",
      "[DeiT-Tiny] Epoch 15: train_acc=0.8834, val_acc=0.5695\n",
      "[DeiT-Tiny] Epoch 16: train_acc=0.8915, val_acc=0.6152\n",
      "[DeiT-Tiny] Epoch 17: train_acc=0.9081, val_acc=0.6126\n",
      "[DeiT-Tiny] Epoch 18: train_acc=0.9069, val_acc=0.6287\n",
      "[DeiT-Tiny] Epoch 19: train_acc=0.9103, val_acc=0.6332\n",
      "[DeiT-Tiny] Epoch 20: train_acc=0.9244, val_acc=0.6430\n",
      "[DeiT-Tiny] Epoch 21: train_acc=0.9264, val_acc=0.6404\n",
      "[DeiT-Tiny] Epoch 22: train_acc=0.9273, val_acc=0.6439\n",
      "[DeiT-Tiny] Epoch 23: train_acc=0.9390, val_acc=0.6565\n",
      "[DeiT-Tiny] Epoch 24: train_acc=0.9417, val_acc=0.6502\n",
      "[DeiT-Tiny] Epoch 25: train_acc=0.9435, val_acc=0.6538\n",
      "[DeiT-Tiny] Epoch 26: train_acc=0.9417, val_acc=0.6556\n",
      "[DeiT-Tiny] Epoch 27: train_acc=0.9439, val_acc=0.6628\n",
      "[DeiT-Tiny] Epoch 28: train_acc=0.9437, val_acc=0.6709\n",
      "[DeiT-Tiny] Epoch 29: train_acc=0.9482, val_acc=0.6717\n",
      "[DeiT-Tiny] Epoch 30: train_acc=0.9520, val_acc=0.6744\n"
     ]
    },
    {
     "data": {
      "text/html": [],
      "text/plain": [
       "<IPython.core.display.HTML object>"
      ]
     },
     "metadata": {},
     "output_type": "display_data"
    },
    {
     "data": {
      "text/html": [
       "<br>    <style><br>        .wandb-row {<br>            display: flex;<br>            flex-direction: row;<br>            flex-wrap: wrap;<br>            justify-content: flex-start;<br>            width: 100%;<br>        }<br>        .wandb-col {<br>            display: flex;<br>            flex-direction: column;<br>            flex-basis: 100%;<br>            flex: 1;<br>            padding: 10px;<br>        }<br>    </style><br><div class=\"wandb-row\"><div class=\"wandb-col\"><h3>Run history:</h3><br/><table class=\"wandb\"><tr><td>epoch</td><td>▁▁▁▂▂▂▂▃▃▃▃▄▄▄▄▅▅▅▅▆▆▆▆▇▇▇▇███</td></tr><tr><td>lr</td><td>█████▇▇▇▇▆▆▆▅▅▅▄▄▃▃▃▂▂▂▂▁▁▁▁▁▁</td></tr><tr><td>train_acc</td><td>▁▃▄▅▅▆▆▆▆▇▇▇▇▇▇▇██████████████</td></tr><tr><td>train_loss</td><td>█▆▅▄▄▃▃▃▂▂▂▂▂▂▂▂▁▁▁▁▁▁▁▁▁▁▁▁▁▁</td></tr><tr><td>val_acc</td><td>▁▂▃▄▅▅▅▆▆▆▆▆▇▆▆▇▇▇▇▇▇▇████████</td></tr><tr><td>val_loss</td><td>█▆▆▄▃▃▃▂▂▂▂▂▂▂▂▂▂▂▂▁▁▁▁▁▁▁▁▁▁▁</td></tr></table><br/></div><div class=\"wandb-col\"><h3>Run summary:</h3><br/><table class=\"wandb\"><tr><td>epoch</td><td>30</td></tr><tr><td>lr</td><td>0</td></tr><tr><td>train_acc</td><td>0.95201</td></tr><tr><td>train_loss</td><td>0.17399</td></tr><tr><td>val_acc</td><td>0.67444</td></tr><tr><td>val_loss</td><td>1.38697</td></tr></table><br/></div></div>"
      ],
      "text/plain": [
       "<IPython.core.display.HTML object>"
      ]
     },
     "metadata": {},
     "output_type": "display_data"
    },
    {
     "data": {
      "text/html": [
       " View run <strong style=\"color:#cdcd00\">deit_tiny_distilled_bs16_seed1234</strong> at: <a href='https://wandb.ai/keremfarzaliyev-umass-boston/dermatology-ai-v10/runs/0nqsv095' target=\"_blank\">https://wandb.ai/keremfarzaliyev-umass-boston/dermatology-ai-v10/runs/0nqsv095</a><br> View project at: <a href='https://wandb.ai/keremfarzaliyev-umass-boston/dermatology-ai-v10' target=\"_blank\">https://wandb.ai/keremfarzaliyev-umass-boston/dermatology-ai-v10</a><br>Synced 5 W&B file(s), 0 media file(s), 0 artifact file(s) and 0 other file(s)"
      ],
      "text/plain": [
       "<IPython.core.display.HTML object>"
      ]
     },
     "metadata": {},
     "output_type": "display_data"
    },
    {
     "data": {
      "text/html": [
       "Find logs at: <code>./wandb/run-20250527_212616-0nqsv095/logs</code>"
      ],
      "text/plain": [
       "<IPython.core.display.HTML object>"
      ]
     },
     "metadata": {},
     "output_type": "display_data"
    }
   ],
   "source": [
    "# Cell 16 — Train DeiT-Tiny-Distilled (30 epochs, patience=5)\n",
    "\n",
    "import wandb, torch\n",
    "import torch.nn as nn\n",
    "\n",
    "run = wandb.init(\n",
    "    project=\"dermatology-ai-v10\",\n",
    "    name=\"deit_tiny_distilled_bs16_seed1234\",\n",
    "    config={**base_config, \"model\": \"deit_tiny_distilled\"},\n",
    "    reinit=True\n",
    ")\n",
    "cfg = wandb.config\n",
    "\n",
    "model     = get_model(\"deit_tiny_distilled\", num_classes, pretrained=True)\n",
    "criterion = nn.CrossEntropyLoss()\n",
    "\n",
    "# 2) optimizer + scheduler \n",
    "optimizer, scheduler = make_optimizer_and_scheduler(\n",
    "    model,\n",
    "    cfg.lr,\n",
    "    cfg.weight_decay,\n",
    "    cfg.epochs\n",
    ")\n",
    "\n",
    "best_val_acc = 0.0\n",
    "no_improve   = 0\n",
    "\n",
    "for epoch in range(cfg.epochs):\n",
    "    # — Train —\n",
    "    model.train()\n",
    "    running_loss = running_correct = total = 0\n",
    "    for x, y in train_loader:\n",
    "        x, y = x.to(device), y.to(device)\n",
    "        optimizer.zero_grad()\n",
    "        out    = model(x)\n",
    "        loss   = criterion(out, y)\n",
    "        loss.backward()\n",
    "        optimizer.step()\n",
    "\n",
    "        running_loss    += loss.item() * x.size(0)\n",
    "        running_correct += (out.argmax(1) == y).sum().item()\n",
    "        total           += x.size(0)\n",
    "\n",
    "    train_loss = running_loss / total\n",
    "    train_acc  = running_correct / total\n",
    "\n",
    "\n",
    "    # — Validate —\n",
    "    model.eval()\n",
    "    v_loss = v_corr = v_tot = 0\n",
    "    with torch.no_grad():\n",
    "        for x, y in test_loader:\n",
    "            x, y   = x.to(device), y.to(device)\n",
    "            out    = model(x)\n",
    "            loss   = criterion(out, y)\n",
    "            v_loss += loss.item() * x.size(0)\n",
    "            v_corr += (out.argmax(1) == y).sum().item()\n",
    "            v_tot  += x.size(0)\n",
    "\n",
    "    val_loss = v_loss / v_tot\n",
    "    val_acc  = v_corr / v_tot\n",
    "\n",
    "    # step the lr‐scheduler\n",
    "    scheduler.step()\n",
    "\n",
    "    # log everything\n",
    "    wandb.log({\n",
    "      \"epoch\":    epoch+1,\n",
    "      \"train_loss\": train_loss, \"train_acc\": train_acc,\n",
    "      \"val_loss\":   val_loss,   \"val_acc\":   val_acc,\n",
    "      \"lr\":         scheduler.get_last_lr()[0]\n",
    "    })\n",
    "\n",
    "    print(f\"[DeiT-Tiny] Epoch {epoch+1}: train_acc={train_acc:.4f}, val_acc={val_acc:.4f}\")\n",
    "\n",
    "    if val_acc > best_val_acc:\n",
    "        best_val_acc = val_acc\n",
    "        no_improve   = 0\n",
    "        torch.save(model.state_dict(), \"best_deit_tiny_distilled.pt\")\n",
    "    else:\n",
    "        no_improve += 1\n",
    "        if no_improve >= cfg.patience:\n",
    "            print(f\"→ Early stopping at epoch {epoch+1}\")\n",
    "            break\n",
    "\n",
    "run.finish()\n"
   ]
  },
  {
   "cell_type": "code",
   "execution_count": 70,
   "id": "a70aa6e0-e756-49dc-89dc-21024534594d",
   "metadata": {},
   "outputs": [
    {
     "data": {
      "text/html": [
       "Finishing previous runs because reinit is set to True."
      ],
      "text/plain": [
       "<IPython.core.display.HTML object>"
      ]
     },
     "metadata": {},
     "output_type": "display_data"
    },
    {
     "data": {
      "text/html": [],
      "text/plain": [
       "<IPython.core.display.HTML object>"
      ]
     },
     "metadata": {},
     "output_type": "display_data"
    },
    {
     "data": {
      "text/html": [
       " View run <strong style=\"color:#cdcd00\">swin_base_bs16_seed1234</strong> at: <a href='https://wandb.ai/keremfarzaliyev-umass-boston/dermatology-ai-v10/runs/99yr8z08' target=\"_blank\">https://wandb.ai/keremfarzaliyev-umass-boston/dermatology-ai-v10/runs/99yr8z08</a><br> View project at: <a href='https://wandb.ai/keremfarzaliyev-umass-boston/dermatology-ai-v10' target=\"_blank\">https://wandb.ai/keremfarzaliyev-umass-boston/dermatology-ai-v10</a><br>Synced 5 W&B file(s), 0 media file(s), 0 artifact file(s) and 0 other file(s)"
      ],
      "text/plain": [
       "<IPython.core.display.HTML object>"
      ]
     },
     "metadata": {},
     "output_type": "display_data"
    },
    {
     "data": {
      "text/html": [
       "Find logs at: <code>./wandb/run-20250527_214500-99yr8z08/logs</code>"
      ],
      "text/plain": [
       "<IPython.core.display.HTML object>"
      ]
     },
     "metadata": {},
     "output_type": "display_data"
    },
    {
     "data": {
      "text/html": [
       "Tracking run with wandb version 0.19.11"
      ],
      "text/plain": [
       "<IPython.core.display.HTML object>"
      ]
     },
     "metadata": {},
     "output_type": "display_data"
    },
    {
     "data": {
      "text/html": [
       "Run data is saved locally in <code>/home/kerem.farzaliyev001/wandb/run-20250527_214622-5s61ar3v</code>"
      ],
      "text/plain": [
       "<IPython.core.display.HTML object>"
      ]
     },
     "metadata": {},
     "output_type": "display_data"
    },
    {
     "data": {
      "text/html": [
       "Syncing run <strong><a href='https://wandb.ai/keremfarzaliyev-umass-boston/dermatology-ai-v10/runs/5s61ar3v' target=\"_blank\">swin_base_bs16_seed1234</a></strong> to <a href='https://wandb.ai/keremfarzaliyev-umass-boston/dermatology-ai-v10' target=\"_blank\">Weights & Biases</a> (<a href='https://wandb.me/developer-guide' target=\"_blank\">docs</a>)<br>"
      ],
      "text/plain": [
       "<IPython.core.display.HTML object>"
      ]
     },
     "metadata": {},
     "output_type": "display_data"
    },
    {
     "data": {
      "text/html": [
       " View project at <a href='https://wandb.ai/keremfarzaliyev-umass-boston/dermatology-ai-v10' target=\"_blank\">https://wandb.ai/keremfarzaliyev-umass-boston/dermatology-ai-v10</a>"
      ],
      "text/plain": [
       "<IPython.core.display.HTML object>"
      ]
     },
     "metadata": {},
     "output_type": "display_data"
    },
    {
     "data": {
      "text/html": [
       " View run at <a href='https://wandb.ai/keremfarzaliyev-umass-boston/dermatology-ai-v10/runs/5s61ar3v' target=\"_blank\">https://wandb.ai/keremfarzaliyev-umass-boston/dermatology-ai-v10/runs/5s61ar3v</a>"
      ],
      "text/plain": [
       "<IPython.core.display.HTML object>"
      ]
     },
     "metadata": {},
     "output_type": "display_data"
    },
    {
     "name": "stdout",
     "output_type": "stream",
     "text": [
      "[Swin-Base] Epoch 1: train_acc=0.3137, val_acc=0.3857\n",
      "[Swin-Base] Epoch 2: train_acc=0.5723, val_acc=0.5112\n",
      "[Swin-Base] Epoch 3: train_acc=0.6997, val_acc=0.5211\n",
      "[Swin-Base] Epoch 4: train_acc=0.7318, val_acc=0.5605\n",
      "[Swin-Base] Epoch 5: train_acc=0.7587, val_acc=0.5946\n",
      "[Swin-Base] Epoch 6: train_acc=0.8040, val_acc=0.6251\n",
      "[Swin-Base] Epoch 7: train_acc=0.8154, val_acc=0.6188\n",
      "[Swin-Base] Epoch 8: train_acc=0.8430, val_acc=0.6099\n",
      "[Swin-Base] Epoch 9: train_acc=0.8482, val_acc=0.6439\n",
      "[Swin-Base] Epoch 10: train_acc=0.8668, val_acc=0.6323\n",
      "[Swin-Base] Epoch 11: train_acc=0.8935, val_acc=0.6691\n",
      "[Swin-Base] Epoch 12: train_acc=0.9022, val_acc=0.6807\n",
      "[Swin-Base] Epoch 13: train_acc=0.9081, val_acc=0.6861\n",
      "[Swin-Base] Epoch 14: train_acc=0.9181, val_acc=0.6744\n",
      "[Swin-Base] Epoch 15: train_acc=0.9188, val_acc=0.6673\n",
      "[Swin-Base] Epoch 16: train_acc=0.9329, val_acc=0.6879\n",
      "[Swin-Base] Epoch 17: train_acc=0.9372, val_acc=0.7031\n",
      "[Swin-Base] Epoch 18: train_acc=0.9439, val_acc=0.6924\n",
      "[Swin-Base] Epoch 19: train_acc=0.9520, val_acc=0.6951\n",
      "[Swin-Base] Epoch 20: train_acc=0.9567, val_acc=0.7112\n",
      "[Swin-Base] Epoch 21: train_acc=0.9623, val_acc=0.7139\n",
      "[Swin-Base] Epoch 22: train_acc=0.9668, val_acc=0.7283\n",
      "[Swin-Base] Epoch 23: train_acc=0.9639, val_acc=0.7166\n",
      "[Swin-Base] Epoch 24: train_acc=0.9668, val_acc=0.7372\n",
      "[Swin-Base] Epoch 25: train_acc=0.9738, val_acc=0.7408\n",
      "[Swin-Base] Epoch 26: train_acc=0.9751, val_acc=0.7300\n",
      "[Swin-Base] Epoch 27: train_acc=0.9720, val_acc=0.7327\n",
      "[Swin-Base] Epoch 28: train_acc=0.9756, val_acc=0.7336\n",
      "[Swin-Base] Epoch 29: train_acc=0.9738, val_acc=0.7336\n",
      "[Swin-Base] Epoch 30: train_acc=0.9789, val_acc=0.7345\n",
      "→ Early stopping at epoch 30\n"
     ]
    },
    {
     "data": {
      "text/html": [],
      "text/plain": [
       "<IPython.core.display.HTML object>"
      ]
     },
     "metadata": {},
     "output_type": "display_data"
    },
    {
     "data": {
      "text/html": [
       "<br>    <style><br>        .wandb-row {<br>            display: flex;<br>            flex-direction: row;<br>            flex-wrap: wrap;<br>            justify-content: flex-start;<br>            width: 100%;<br>        }<br>        .wandb-col {<br>            display: flex;<br>            flex-direction: column;<br>            flex-basis: 100%;<br>            flex: 1;<br>            padding: 10px;<br>        }<br>    </style><br><div class=\"wandb-row\"><div class=\"wandb-col\"><h3>Run history:</h3><br/><table class=\"wandb\"><tr><td>epoch</td><td>▁▁▁▂▂▂▂▃▃▃▃▄▄▄▄▅▅▅▅▆▆▆▆▇▇▇▇███</td></tr><tr><td>lr</td><td>█████▇▇▇▇▆▆▆▅▅▅▄▄▃▃▃▂▂▂▂▁▁▁▁▁▁</td></tr><tr><td>train_acc</td><td>▁▄▅▅▆▆▆▇▇▇▇▇▇▇▇███████████████</td></tr><tr><td>train_loss</td><td>█▅▄▃▃▃▃▂▂▂▂▂▂▂▂▁▁▁▁▁▁▁▁▁▁▁▁▁▁▁</td></tr><tr><td>val_acc</td><td>▁▃▄▄▅▆▆▅▆▆▇▇▇▇▇▇▇▇▇▇▇█████████</td></tr><tr><td>val_loss</td><td>█▅▅▄▃▃▃▃▃▃▂▁▂▂▂▂▂▂▂▂▁▁▁▁▁▁▁▁▁▁</td></tr></table><br/></div><div class=\"wandb-col\"><h3>Run summary:</h3><br/><table class=\"wandb\"><tr><td>epoch</td><td>30</td></tr><tr><td>lr</td><td>0</td></tr><tr><td>train_acc</td><td>0.97892</td></tr><tr><td>train_loss</td><td>0.07518</td></tr><tr><td>val_acc</td><td>0.73453</td></tr><tr><td>val_loss</td><td>1.22371</td></tr></table><br/></div></div>"
      ],
      "text/plain": [
       "<IPython.core.display.HTML object>"
      ]
     },
     "metadata": {},
     "output_type": "display_data"
    },
    {
     "data": {
      "text/html": [
       " View run <strong style=\"color:#cdcd00\">swin_base_bs16_seed1234</strong> at: <a href='https://wandb.ai/keremfarzaliyev-umass-boston/dermatology-ai-v10/runs/5s61ar3v' target=\"_blank\">https://wandb.ai/keremfarzaliyev-umass-boston/dermatology-ai-v10/runs/5s61ar3v</a><br> View project at: <a href='https://wandb.ai/keremfarzaliyev-umass-boston/dermatology-ai-v10' target=\"_blank\">https://wandb.ai/keremfarzaliyev-umass-boston/dermatology-ai-v10</a><br>Synced 5 W&B file(s), 0 media file(s), 0 artifact file(s) and 0 other file(s)"
      ],
      "text/plain": [
       "<IPython.core.display.HTML object>"
      ]
     },
     "metadata": {},
     "output_type": "display_data"
    },
    {
     "data": {
      "text/html": [
       "Find logs at: <code>./wandb/run-20250527_214622-5s61ar3v/logs</code>"
      ],
      "text/plain": [
       "<IPython.core.display.HTML object>"
      ]
     },
     "metadata": {},
     "output_type": "display_data"
    }
   ],
   "source": [
    "# Cell 17 — Train Swin-Base (30 epochs, patience=5)\n",
    "\n",
    "import wandb, torch\n",
    "import torch.nn as nn\n",
    "\n",
    "run = wandb.init(\n",
    "    project=\"dermatology-ai-v10\",\n",
    "    name=\"swin_base_bs16_seed1234\",\n",
    "    config={**base_config, \"model\": \"swin_base_patch4_window7_224\"},\n",
    "    reinit=True\n",
    ")\n",
    "cfg = wandb.config\n",
    "\n",
    "model     = get_model(\"swin_base_patch4_window7_224\", num_classes, pretrained=True)\n",
    "criterion = nn.CrossEntropyLoss()\n",
    "# 2) optimizer + scheduler \n",
    "optimizer, scheduler = make_optimizer_and_scheduler(\n",
    "    model,\n",
    "    cfg.lr,\n",
    "    cfg.weight_decay,\n",
    "    cfg.epochs\n",
    ")\n",
    "\n",
    "best_val_acc = 0.0\n",
    "no_improve   = 0\n",
    "\n",
    "for epoch in range(cfg.epochs):\n",
    "    # — Train —\n",
    "    model.train()\n",
    "    running_loss = running_correct = total = 0\n",
    "    for x, y in train_loader:\n",
    "        x, y = x.to(device), y.to(device)\n",
    "        optimizer.zero_grad()\n",
    "        out    = model(x)\n",
    "        loss   = criterion(out, y)\n",
    "        loss.backward()\n",
    "        optimizer.step()\n",
    "\n",
    "        running_loss    += loss.item() * x.size(0)\n",
    "        running_correct += (out.argmax(1) == y).sum().item()\n",
    "        total           += x.size(0)\n",
    "\n",
    "    train_loss = running_loss / total\n",
    "    train_acc  = running_correct / total\n",
    "\n",
    "\n",
    "    # — Validate —\n",
    "    model.eval()\n",
    "    v_loss = v_corr = v_tot = 0\n",
    "    with torch.no_grad():\n",
    "        for x, y in test_loader:\n",
    "            x, y   = x.to(device), y.to(device)\n",
    "            out    = model(x)\n",
    "            loss   = criterion(out, y)\n",
    "            v_loss += loss.item() * x.size(0)\n",
    "            v_corr += (out.argmax(1) == y).sum().item()\n",
    "            v_tot  += x.size(0)\n",
    "\n",
    "    val_loss = v_loss / v_tot\n",
    "    val_acc  = v_corr / v_tot\n",
    "\n",
    "    # step the lr‐scheduler\n",
    "    scheduler.step()\n",
    "\n",
    "    # log everything\n",
    "    wandb.log({\n",
    "      \"epoch\":    epoch+1,\n",
    "      \"train_loss\": train_loss, \"train_acc\": train_acc,\n",
    "      \"val_loss\":   val_loss,   \"val_acc\":   val_acc,\n",
    "      \"lr\":         scheduler.get_last_lr()[0]\n",
    "    })\n",
    "\n",
    "    print(f\"[Swin-Base] Epoch {epoch+1}: train_acc={train_acc:.4f}, val_acc={val_acc:.4f}\")\n",
    "\n",
    "    if val_acc > best_val_acc:\n",
    "        best_val_acc = val_acc\n",
    "        no_improve   = 0\n",
    "        torch.save(model.state_dict(), \"best_swin_base.pt\")\n",
    "    else:\n",
    "        no_improve += 1\n",
    "        if no_improve >= cfg.patience:\n",
    "            print(f\"→ Early stopping at epoch {epoch+1}\")\n",
    "            break\n",
    "\n",
    "run.finish()\n"
   ]
  },
  {
   "cell_type": "code",
   "execution_count": 72,
   "id": "bc59220d-6587-44a7-a106-ba0c96184aeb",
   "metadata": {},
   "outputs": [
    {
     "name": "stdout",
     "output_type": "stream",
     "text": [
      " Loaded best_resnet50.pt → resnet50\n",
      " Loaded best_densenet201.pt → densenet201\n",
      " Loaded best_convnext_base.pt → convnext_base\n",
      " Loaded best_deit_tiny_distilled.pt → deit_tiny_distilled\n",
      " Loaded best_swin_base.pt → swin_base_patch4_window7_224\n",
      "\n",
      "All models ready: ['resnet50', 'densenet201', 'convnext_base', 'deit_tiny_distilled', 'swin_base_patch4_window7_224']\n"
     ]
    }
   ],
   "source": [
    "# Cell 18 — Load Best Checkpoints into model_dict\n",
    "\n",
    "import os, torch\n",
    "\n",
    "# Map each architecture name → checkpoint filename on disk\n",
    "ckpt_map = {\n",
    "    \"resnet50\":            \"best_resnet50.pt\",\n",
    "    \"densenet201\":         \"best_densenet201.pt\",\n",
    "    \"convnext_base\":       \"best_convnext_base.pt\",\n",
    "    \"deit_tiny_distilled\": \"best_deit_tiny_distilled.pt\",\n",
    "    \"swin_base_patch4_window7_224\":           \"best_swin_base.pt\",\n",
    "}\n",
    "\n",
    "model_dict = {}\n",
    "for name, ckpt in ckpt_map.items():\n",
    "    # 1) create the same model architecture (no ImageNet init, since we're loading your fine-tuned weights)\n",
    "    m = get_model(name, num_classes, pretrained=False)\n",
    "    # 2) load your checkpoint\n",
    "    path = os.path.join(os.getcwd(), ckpt)\n",
    "    state = torch.load(path, map_location=device)\n",
    "    m.load_state_dict(state)\n",
    "    # 3) switch to eval mode and stash\n",
    "    m.eval()\n",
    "    model_dict[name] = m\n",
    "    print(f\" Loaded {ckpt} → {name}\")\n",
    "\n",
    "print(\"\\nAll models ready:\", list(model_dict.keys()))\n"
   ]
  },
  {
   "cell_type": "code",
   "execution_count": 73,
   "id": "233790b4-121f-4df5-85da-2f86e77b7c15",
   "metadata": {},
   "outputs": [
    {
     "name": "stdout",
     "output_type": "stream",
     "text": [
      "Base ensemble (no TTA) val_acc = 0.7561\n"
     ]
    }
   ],
   "source": [
    "# Cell 19 — Base Ensemble (no TTA)\n",
    "\n",
    "import torch\n",
    "import torch.nn.functional as F\n",
    "\n",
    "all_labels     = torch.cat([y for _, y in test_loader], dim=0).cpu()\n",
    "ensemble_base  = []\n",
    "\n",
    "with torch.no_grad():\n",
    "    for x, _ in test_loader:\n",
    "        x = x.to(device)\n",
    "        # sum softmaxes across models\n",
    "        m_sum = torch.zeros(x.size(0), num_classes, device=device)\n",
    "        for m in model_dict.values():\n",
    "            m_sum += F.softmax(m(x), dim=1)\n",
    "        # average over models\n",
    "        m_avg = m_sum / len(model_dict)\n",
    "        ensemble_base.append(m_avg.cpu())\n",
    "\n",
    "ensemble_base = torch.cat(ensemble_base, dim=0)\n",
    "acc_base      = (ensemble_base.argmax(1) == all_labels).float().mean().item()\n",
    "print(f\"Base ensemble (no TTA) val_acc = {acc_base:.4f}\")\n"
   ]
  },
  {
   "cell_type": "code",
   "execution_count": 74,
   "id": "a5c3f13a-4729-4317-906e-ec6d7816365f",
   "metadata": {},
   "outputs": [
    {
     "name": "stdout",
     "output_type": "stream",
     "text": [
      "Ensemble + flip TTA val_acc = 0.7552\n"
     ]
    }
   ],
   "source": [
    "# Cell 20 — Flip TTA on Ensemble\n",
    "\n",
    "import torch\n",
    "import torch.nn.functional as F\n",
    "\n",
    "ensemble_flip = []\n",
    "\n",
    "with torch.no_grad():\n",
    "    for x, _ in test_loader:\n",
    "        x = x.to(device)\n",
    "        # two variants: original & horizontally flipped\n",
    "        variants = [x, torch.flip(x, dims=[3])]\n",
    "        # sum predictions over variants\n",
    "        v_sum = torch.zeros(x.size(0), num_classes, device=device)\n",
    "        for v in variants:\n",
    "            # ensemble over models for this variant\n",
    "            m_sum = torch.zeros_like(v_sum)\n",
    "            for m in model_dict.values():\n",
    "                m_sum += F.softmax(m(v), dim=1)\n",
    "            m_avg  = m_sum / len(model_dict)\n",
    "            v_sum += m_avg\n",
    "        # average over variants\n",
    "        v_avg = v_sum / len(variants)\n",
    "        ensemble_flip.append(v_avg.cpu())\n",
    "\n",
    "ensemble_flip = torch.cat(ensemble_flip, dim=0)\n",
    "acc_flip      = (ensemble_flip.argmax(1) == all_labels).float().mean().item()\n",
    "print(f\"Ensemble + flip TTA val_acc = {acc_flip:.4f}\")\n"
   ]
  }
 ],
 "metadata": {
  "kernelspec": {
   "display_name": "Python 3 (ipykernel)",
   "language": "python",
   "name": "python3"
  },
  "language_info": {
   "codemirror_mode": {
    "name": "ipython",
    "version": 3
   },
   "file_extension": ".py",
   "mimetype": "text/x-python",
   "name": "python",
   "nbconvert_exporter": "python",
   "pygments_lexer": "ipython3",
   "version": "3.9.21"
  }
 },
 "nbformat": 4,
 "nbformat_minor": 5
}
